{
 "cells": [
  {
   "cell_type": "code",
   "execution_count": 1,
   "metadata": {},
   "outputs": [],
   "source": [
    "import pandas as pd"
   ]
  },
  {
   "cell_type": "code",
   "execution_count": 2,
   "metadata": {},
   "outputs": [],
   "source": [
    "import pyarrow.parquet as pq\n",
    "import s3fs\n",
    "s3 = s3fs.S3FileSystem()"
   ]
  },
  {
   "cell_type": "code",
   "execution_count": 3,
   "metadata": {},
   "outputs": [],
   "source": [
    "ml_df = pq.ParquetDataset('s3://decks-ml/2020-16', filesystem=s3).read_pandas().to_pandas()"
   ]
  },
  {
   "cell_type": "code",
   "execution_count": 4,
   "metadata": {},
   "outputs": [
    {
     "data": {
      "text/html": [
       "<div>\n",
       "<style scoped>\n",
       "    .dataframe tbody tr th:only-of-type {\n",
       "        vertical-align: middle;\n",
       "    }\n",
       "\n",
       "    .dataframe tbody tr th {\n",
       "        vertical-align: top;\n",
       "    }\n",
       "\n",
       "    .dataframe thead th {\n",
       "        text-align: right;\n",
       "    }\n",
       "</style>\n",
       "<table border=\"1\" class=\"dataframe\">\n",
       "  <thead>\n",
       "    <tr style=\"text-align: right;\">\n",
       "      <th></th>\n",
       "      <th>type</th>\n",
       "      <th>deck_id</th>\n",
       "      <th>oracle_text</th>\n",
       "      <th>name</th>\n",
       "      <th>mana_curve</th>\n",
       "      <th>colors</th>\n",
       "      <th>toughness</th>\n",
       "      <th>power</th>\n",
       "    </tr>\n",
       "  </thead>\n",
       "  <tbody>\n",
       "    <tr>\n",
       "      <th>0</th>\n",
       "      <td>Creature — Jellyfish Hydra Beast||Legendary Cr...</td>\n",
       "      <td>5a234658-8261-11ea-99fe-ae4bb5492654</td>\n",
       "      <td>When you cast this spell, you gain half X life...</td>\n",
       "      <td>Temur Reclamation</td>\n",
       "      <td>[25, 0, 13, 14, 7, 0, 1]</td>\n",
       "      <td>UG||UG||U||RUG||R||UG||U||RUG||R||G||U||R||RG|...</td>\n",
       "      <td>[0, 6, 1, 0, 0, 0, 0, 0, 0, 0, 0, 0, 0, 0, 0, ...</td>\n",
       "      <td>[0, 6, 3, 0, 0, 0, 0, 0, 0, 0, 0, 0, 0, 0, 0, ...</td>\n",
       "    </tr>\n",
       "    <tr>\n",
       "      <th>1</th>\n",
       "      <td>Legendary Planeswalker — Garruk||Enchantment||...</td>\n",
       "      <td>8bb68c50-6bed-11ea-8368-fe6f0d649b94</td>\n",
       "      <td>0: Create two 2/2 black and green Wolf creatur...</td>\n",
       "      <td>Happy Growth 4</td>\n",
       "      <td>[31, 8, 7, 15, 5, 5, 8]</td>\n",
       "      <td>BG||RW||W||W||W||W||W||BG||U||RBUGW||G||empty|...</td>\n",
       "      <td>[0, 0, 1, 1, 0, 0, 0, 0, 0, 5, 0, 0, 4, 0, 0, ...</td>\n",
       "      <td>[0, 0, 1, 1, 0, 0, 0, 0, 0, 3, 0, 0, 2, 0, 0, ...</td>\n",
       "    </tr>\n",
       "    <tr>\n",
       "      <th>2</th>\n",
       "      <td>Creature — Human Shaman||Legendary Creature — ...</td>\n",
       "      <td>a8f764d6-8260-11ea-99fe-ae4bb5492654</td>\n",
       "      <td>Spectacle {2}{B}{R} (You may cast this spell f...</td>\n",
       "      <td>Rakdos Sacrifice</td>\n",
       "      <td>[23, 20, 15, 2, 0, 0, 0]</td>\n",
       "      <td>BR||BR||B||B||B||BR||B||empty||B||R||B||B||emp...</td>\n",
       "      <td>[2, 6, 2, 1, 2, 1, 1, 0, 0, 0, 0, 0, 0, 0, 0, 0]</td>\n",
       "      <td>[2, 6, 1, 1, 1, 1, 1, 0, 0, 0, 0, 0, 0, 0, 0, 0]</td>\n",
       "    </tr>\n",
       "  </tbody>\n",
       "</table>\n",
       "</div>"
      ],
      "text/plain": [
       "                                                type  \\\n",
       "0  Creature — Jellyfish Hydra Beast||Legendary Cr...   \n",
       "1  Legendary Planeswalker — Garruk||Enchantment||...   \n",
       "2  Creature — Human Shaman||Legendary Creature — ...   \n",
       "\n",
       "                                deck_id  \\\n",
       "0  5a234658-8261-11ea-99fe-ae4bb5492654   \n",
       "1  8bb68c50-6bed-11ea-8368-fe6f0d649b94   \n",
       "2  a8f764d6-8260-11ea-99fe-ae4bb5492654   \n",
       "\n",
       "                                         oracle_text               name  \\\n",
       "0  When you cast this spell, you gain half X life...  Temur Reclamation   \n",
       "1  0: Create two 2/2 black and green Wolf creatur...     Happy Growth 4   \n",
       "2  Spectacle {2}{B}{R} (You may cast this spell f...   Rakdos Sacrifice   \n",
       "\n",
       "                 mana_curve  \\\n",
       "0  [25, 0, 13, 14, 7, 0, 1]   \n",
       "1   [31, 8, 7, 15, 5, 5, 8]   \n",
       "2  [23, 20, 15, 2, 0, 0, 0]   \n",
       "\n",
       "                                              colors  \\\n",
       "0  UG||UG||U||RUG||R||UG||U||RUG||R||G||U||R||RG|...   \n",
       "1  BG||RW||W||W||W||W||W||BG||U||RBUGW||G||empty|...   \n",
       "2  BR||BR||B||B||B||BR||B||empty||B||R||B||B||emp...   \n",
       "\n",
       "                                           toughness  \\\n",
       "0  [0, 6, 1, 0, 0, 0, 0, 0, 0, 0, 0, 0, 0, 0, 0, ...   \n",
       "1  [0, 0, 1, 1, 0, 0, 0, 0, 0, 5, 0, 0, 4, 0, 0, ...   \n",
       "2   [2, 6, 2, 1, 2, 1, 1, 0, 0, 0, 0, 0, 0, 0, 0, 0]   \n",
       "\n",
       "                                               power  \n",
       "0  [0, 6, 3, 0, 0, 0, 0, 0, 0, 0, 0, 0, 0, 0, 0, ...  \n",
       "1  [0, 0, 1, 1, 0, 0, 0, 0, 0, 3, 0, 0, 2, 0, 0, ...  \n",
       "2   [2, 6, 1, 1, 1, 1, 1, 0, 0, 0, 0, 0, 0, 0, 0, 0]  "
      ]
     },
     "execution_count": 4,
     "metadata": {},
     "output_type": "execute_result"
    }
   ],
   "source": [
    "ml_df.head()"
   ]
  },
  {
   "cell_type": "code",
   "execution_count": 17,
   "metadata": {},
   "outputs": [
    {
     "data": {
      "text/plain": [
       "['Legendary Planeswalker — Garruk',\n",
       " 'Enchantment',\n",
       " 'Creature — Human',\n",
       " 'Creature — Bird',\n",
       " 'Instant',\n",
       " 'Enchantment — Aura',\n",
       " 'Basic Land — Plains',\n",
       " 'Land',\n",
       " 'Instant',\n",
       " 'Legendary Artifact Creature — Scout',\n",
       " 'Sorcery',\n",
       " 'Artifact',\n",
       " 'Enchantment Creature — Nymph',\n",
       " 'Enchantment',\n",
       " 'Land',\n",
       " 'Basic Land — Island',\n",
       " 'Basic Land — Forest',\n",
       " 'Sorcery',\n",
       " 'Enchantment',\n",
       " 'Sorcery',\n",
       " 'Land']"
      ]
     },
     "execution_count": 17,
     "metadata": {},
     "output_type": "execute_result"
    }
   ],
   "source": [
    "ml_df.type[1].split('||')"
   ]
  },
  {
   "cell_type": "code",
   "execution_count": 11,
   "metadata": {},
   "outputs": [
    {
     "data": {
      "text/plain": [
       "'BG||RW||W||W||W||W||W||BG||U||RBUGW||G||empty||G||W||BW||U||G||BW||W||WU||WU'"
      ]
     },
     "execution_count": 11,
     "metadata": {},
     "output_type": "execute_result"
    }
   ],
   "source": [
    "ml_df.colors[1]"
   ]
  },
  {
   "cell_type": "code",
   "execution_count": 18,
   "metadata": {},
   "outputs": [
    {
     "name": "stdout",
     "output_type": "stream",
     "text": [
      "Legendary Planeswalker — Garruk 0 0\n",
      "Enchantment 0 0\n",
      "Creature — Human 1 1\n",
      "Creature — Bird 1 1\n",
      "Instant 0 0\n",
      "Enchantment — Aura 0 0\n",
      "Basic Land — Plains 0 0\n",
      "Land 0 0\n",
      "Instant 0 0\n",
      "Legendary Artifact Creature — Scout 3 5\n",
      "Sorcery 0 0\n",
      "Artifact 0 0\n",
      "Enchantment Creature — Nymph 2 4\n",
      "Enchantment 0 0\n",
      "Land 0 0\n",
      "Basic Land — Island 0 0\n",
      "Basic Land — Forest 0 0\n",
      "Sorcery 0 0\n",
      "Enchantment 0 0\n",
      "Sorcery 0 0\n",
      "Land 0 0\n"
     ]
    }
   ],
   "source": [
    "for a, x, y in zip(ml_df.type[1].split('||'), ml_df.power[1], ml_df.toughness[1]):\n",
    "    print(a, x, y)"
   ]
  },
  {
   "cell_type": "code",
   "execution_count": null,
   "metadata": {},
   "outputs": [],
   "source": []
  }
 ],
 "metadata": {
  "kernelspec": {
   "display_name": "Python 3",
   "language": "python",
   "name": "python3"
  },
  "language_info": {
   "codemirror_mode": {
    "name": "ipython",
    "version": 3
   },
   "file_extension": ".py",
   "mimetype": "text/x-python",
   "name": "python",
   "nbconvert_exporter": "python",
   "pygments_lexer": "ipython3",
   "version": "3.6.10"
  }
 },
 "nbformat": 4,
 "nbformat_minor": 4
}
