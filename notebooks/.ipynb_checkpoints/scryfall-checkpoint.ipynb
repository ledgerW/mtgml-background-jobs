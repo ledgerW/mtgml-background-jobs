{
 "cells": [
  {
   "cell_type": "code",
   "execution_count": 55,
   "metadata": {},
   "outputs": [],
   "source": [
    "import pandas as pd\n",
    "import numpy as np\n",
    "import os\n",
    "import requests\n",
    "from time import sleep\n",
    "import json\n",
    "\n",
    "pd.set_option('display.max_columns', None)"
   ]
  },
  {
   "cell_type": "markdown",
   "metadata": {},
   "source": [
    "# Scryfall API"
   ]
  },
  {
   "cell_type": "code",
   "execution_count": 92,
   "metadata": {},
   "outputs": [
    {
     "data": {
      "text/plain": [
       "[(0, 20),\n",
       " (20, 40),\n",
       " (40, 60),\n",
       " (60, 80),\n",
       " (80, 100),\n",
       " (100, 120),\n",
       " (120, 140),\n",
       " (140, 160),\n",
       " (160, 180)]"
      ]
     },
     "execution_count": 92,
     "metadata": {},
     "output_type": "execute_result"
    }
   ],
   "source": [
    "CARDS_PER_PAGE = 175\n",
    "PAGES_PER_WORKER = 100\n",
    "BATCH_LIMIT = 20\n",
    "\n",
    "dynamo_batches = [(first, first+BATCH_LIMIT) for first in list(range(0, CARDS_PER_PAGE, BATCH_LIMIT))]\n",
    "dynamo_batches"
   ]
  },
  {
   "cell_type": "code",
   "execution_count": null,
   "metadata": {},
   "outputs": [],
   "source": []
  },
  {
   "cell_type": "code",
   "execution_count": 22,
   "metadata": {},
   "outputs": [],
   "source": [
    "import json"
   ]
  },
  {
   "cell_type": "code",
   "execution_count": 2,
   "metadata": {},
   "outputs": [],
   "source": [
    "pages = (1, 101)"
   ]
  },
  {
   "cell_type": "code",
   "execution_count": 5,
   "metadata": {},
   "outputs": [
    {
     "data": {
      "text/plain": [
       "'{\"first\": 1, \"last\": 101}'"
      ]
     },
     "execution_count": 5,
     "metadata": {},
     "output_type": "execute_result"
    }
   ],
   "source": [
    "payload = json.dumps({\"first\": pages[0], \"last\": pages[1]})\n",
    "payload"
   ]
  },
  {
   "cell_type": "code",
   "execution_count": 7,
   "metadata": {},
   "outputs": [
    {
     "data": {
      "text/plain": [
       "{'first': 1, 'last': 101}"
      ]
     },
     "execution_count": 7,
     "metadata": {},
     "output_type": "execute_result"
    }
   ],
   "source": [
    "event = json.loads(payload)\n",
    "event"
   ]
  },
  {
   "cell_type": "code",
   "execution_count": null,
   "metadata": {},
   "outputs": [],
   "source": []
  },
  {
   "cell_type": "code",
   "execution_count": 53,
   "metadata": {},
   "outputs": [],
   "source": [
    "leonin = 'https://api.scryfall.com/cards/named?fuzzy=leonin+warleader'"
   ]
  },
  {
   "cell_type": "code",
   "execution_count": 2,
   "metadata": {},
   "outputs": [],
   "source": [
    "cards_url = 'https://api.scryfall.com/cards?page=11'"
   ]
  },
  {
   "cell_type": "code",
   "execution_count": 3,
   "metadata": {},
   "outputs": [],
   "source": [
    "res = requests.get(cards_url)"
   ]
  },
  {
   "cell_type": "code",
   "execution_count": 47,
   "metadata": {},
   "outputs": [],
   "source": [
    "keep_keys = ['id','name','prices']"
   ]
  },
  {
   "cell_type": "code",
   "execution_count": 48,
   "metadata": {},
   "outputs": [],
   "source": [
    "data = [{key: card[key] for key in keep_keys} for card in res.json()['data']]"
   ]
  },
  {
   "cell_type": "code",
   "execution_count": 59,
   "metadata": {},
   "outputs": [],
   "source": [
    "for idx, card in enumerate(data):\n",
    "    data[idx]['usd'] = card['prices']['usd'] "
   ]
  },
  {
   "cell_type": "code",
   "execution_count": 60,
   "metadata": {},
   "outputs": [],
   "source": [
    "price_df = pd.read_json(json.dumps(data), orient='records')"
   ]
  },
  {
   "cell_type": "code",
   "execution_count": 61,
   "metadata": {},
   "outputs": [
    {
     "data": {
      "text/html": [
       "<div>\n",
       "<style scoped>\n",
       "    .dataframe tbody tr th:only-of-type {\n",
       "        vertical-align: middle;\n",
       "    }\n",
       "\n",
       "    .dataframe tbody tr th {\n",
       "        vertical-align: top;\n",
       "    }\n",
       "\n",
       "    .dataframe thead th {\n",
       "        text-align: right;\n",
       "    }\n",
       "</style>\n",
       "<table border=\"1\" class=\"dataframe\">\n",
       "  <thead>\n",
       "    <tr style=\"text-align: right;\">\n",
       "      <th></th>\n",
       "      <th>id</th>\n",
       "      <th>name</th>\n",
       "      <th>prices</th>\n",
       "      <th>usd</th>\n",
       "    </tr>\n",
       "  </thead>\n",
       "  <tbody>\n",
       "    <tr>\n",
       "      <th>0</th>\n",
       "      <td>df919224-0e49-4098-9ec5-d2c5f0a91053</td>\n",
       "      <td>Caligo Skin-Witch</td>\n",
       "      <td>{'usd': None, 'usd_foil': None, 'eur': None, '...</td>\n",
       "      <td>NaN</td>\n",
       "    </tr>\n",
       "    <tr>\n",
       "      <th>1</th>\n",
       "      <td>3c83d4e8-abb7-40a7-b8ed-159a2484a009</td>\n",
       "      <td>Cairn Wanderer</td>\n",
       "      <td>{'usd': '2.81', 'usd_foil': None, 'eur': None,...</td>\n",
       "      <td>2.81</td>\n",
       "    </tr>\n",
       "    <tr>\n",
       "      <th>2</th>\n",
       "      <td>7b00bfd2-720d-4896-91fb-4a5115e63fbc</td>\n",
       "      <td>Cadaver Imp</td>\n",
       "      <td>{'usd': None, 'usd_foil': None, 'eur': None, '...</td>\n",
       "      <td>NaN</td>\n",
       "    </tr>\n",
       "  </tbody>\n",
       "</table>\n",
       "</div>"
      ],
      "text/plain": [
       "                                     id               name  \\\n",
       "0  df919224-0e49-4098-9ec5-d2c5f0a91053  Caligo Skin-Witch   \n",
       "1  3c83d4e8-abb7-40a7-b8ed-159a2484a009     Cairn Wanderer   \n",
       "2  7b00bfd2-720d-4896-91fb-4a5115e63fbc        Cadaver Imp   \n",
       "\n",
       "                                              prices   usd  \n",
       "0  {'usd': None, 'usd_foil': None, 'eur': None, '...   NaN  \n",
       "1  {'usd': '2.81', 'usd_foil': None, 'eur': None,...  2.81  \n",
       "2  {'usd': None, 'usd_foil': None, 'eur': None, '...   NaN  "
      ]
     },
     "execution_count": 61,
     "metadata": {},
     "output_type": "execute_result"
    }
   ],
   "source": [
    "price_df.head(3)"
   ]
  },
  {
   "cell_type": "code",
   "execution_count": 62,
   "metadata": {},
   "outputs": [
    {
     "ename": "ImportError",
     "evalue": "Unable to find a usable engine; tried using: 'pyarrow', 'fastparquet'.\npyarrow or fastparquet is required for parquet support",
     "output_type": "error",
     "traceback": [
      "\u001b[1;31m---------------------------------------------------------------------------\u001b[0m",
      "\u001b[1;31mImportError\u001b[0m                               Traceback (most recent call last)",
      "\u001b[1;32m<ipython-input-62-9a9379904462>\u001b[0m in \u001b[0;36m<module>\u001b[1;34m\u001b[0m\n\u001b[0;32m      1\u001b[0m \u001b[0mtemp_dir\u001b[0m \u001b[1;33m=\u001b[0m \u001b[0mos\u001b[0m\u001b[1;33m.\u001b[0m\u001b[0mpath\u001b[0m\u001b[1;33m.\u001b[0m\u001b[0mjoin\u001b[0m\u001b[1;33m(\u001b[0m\u001b[1;34m'tmp'\u001b[0m\u001b[1;33m,\u001b[0m \u001b[1;34m'prices.parquet'\u001b[0m\u001b[1;33m)\u001b[0m\u001b[1;33m\u001b[0m\u001b[1;33m\u001b[0m\u001b[0m\n\u001b[1;32m----> 2\u001b[1;33m \u001b[0mprice_df\u001b[0m\u001b[1;33m.\u001b[0m\u001b[0mto_parquet\u001b[0m\u001b[1;33m(\u001b[0m\u001b[0mtemp_dir\u001b[0m\u001b[1;33m)\u001b[0m\u001b[1;33m\u001b[0m\u001b[1;33m\u001b[0m\u001b[0m\n\u001b[0m",
      "\u001b[1;32m~\\AppData\\Local\\Continuum\\Anaconda3\\lib\\site-packages\\pandas\\core\\frame.py\u001b[0m in \u001b[0;36mto_parquet\u001b[1;34m(self, fname, engine, compression, index, partition_cols, **kwargs)\u001b[0m\n\u001b[0;32m   2235\u001b[0m             \u001b[0mindex\u001b[0m\u001b[1;33m=\u001b[0m\u001b[0mindex\u001b[0m\u001b[1;33m,\u001b[0m\u001b[1;33m\u001b[0m\u001b[1;33m\u001b[0m\u001b[0m\n\u001b[0;32m   2236\u001b[0m             \u001b[0mpartition_cols\u001b[0m\u001b[1;33m=\u001b[0m\u001b[0mpartition_cols\u001b[0m\u001b[1;33m,\u001b[0m\u001b[1;33m\u001b[0m\u001b[1;33m\u001b[0m\u001b[0m\n\u001b[1;32m-> 2237\u001b[1;33m             \u001b[1;33m**\u001b[0m\u001b[0mkwargs\u001b[0m\u001b[1;33m\u001b[0m\u001b[1;33m\u001b[0m\u001b[0m\n\u001b[0m\u001b[0;32m   2238\u001b[0m         )\n\u001b[0;32m   2239\u001b[0m \u001b[1;33m\u001b[0m\u001b[0m\n",
      "\u001b[1;32m~\\AppData\\Local\\Continuum\\Anaconda3\\lib\\site-packages\\pandas\\io\\parquet.py\u001b[0m in \u001b[0;36mto_parquet\u001b[1;34m(df, path, engine, compression, index, partition_cols, **kwargs)\u001b[0m\n\u001b[0;32m    245\u001b[0m         \u001b[0mAdditional\u001b[0m \u001b[0mkeyword\u001b[0m \u001b[0marguments\u001b[0m \u001b[0mpassed\u001b[0m \u001b[0mto\u001b[0m \u001b[0mthe\u001b[0m \u001b[0mengine\u001b[0m\u001b[1;33m\u001b[0m\u001b[1;33m\u001b[0m\u001b[0m\n\u001b[0;32m    246\u001b[0m     \"\"\"\n\u001b[1;32m--> 247\u001b[1;33m     \u001b[0mimpl\u001b[0m \u001b[1;33m=\u001b[0m \u001b[0mget_engine\u001b[0m\u001b[1;33m(\u001b[0m\u001b[0mengine\u001b[0m\u001b[1;33m)\u001b[0m\u001b[1;33m\u001b[0m\u001b[1;33m\u001b[0m\u001b[0m\n\u001b[0m\u001b[0;32m    248\u001b[0m     return impl.write(\n\u001b[0;32m    249\u001b[0m         \u001b[0mdf\u001b[0m\u001b[1;33m,\u001b[0m\u001b[1;33m\u001b[0m\u001b[1;33m\u001b[0m\u001b[0m\n",
      "\u001b[1;32m~\\AppData\\Local\\Continuum\\Anaconda3\\lib\\site-packages\\pandas\\io\\parquet.py\u001b[0m in \u001b[0;36mget_engine\u001b[1;34m(engine)\u001b[0m\n\u001b[0;32m     30\u001b[0m \u001b[1;33m\u001b[0m\u001b[0m\n\u001b[0;32m     31\u001b[0m         raise ImportError(\n\u001b[1;32m---> 32\u001b[1;33m             \u001b[1;34m\"Unable to find a usable engine; \"\u001b[0m\u001b[1;33m\u001b[0m\u001b[1;33m\u001b[0m\u001b[0m\n\u001b[0m\u001b[0;32m     33\u001b[0m             \u001b[1;34m\"tried using: 'pyarrow', 'fastparquet'.\\n\"\u001b[0m\u001b[1;33m\u001b[0m\u001b[1;33m\u001b[0m\u001b[0m\n\u001b[0;32m     34\u001b[0m             \u001b[1;34m\"pyarrow or fastparquet is required for parquet \"\u001b[0m\u001b[1;33m\u001b[0m\u001b[1;33m\u001b[0m\u001b[0m\n",
      "\u001b[1;31mImportError\u001b[0m: Unable to find a usable engine; tried using: 'pyarrow', 'fastparquet'.\npyarrow or fastparquet is required for parquet support"
     ]
    }
   ],
   "source": [
    "temp_dir = os.path.join('tmp', 'prices.parquet')\n",
    "price_df.to_parquet(temp_dir)"
   ]
  },
  {
   "cell_type": "code",
   "execution_count": null,
   "metadata": {},
   "outputs": [],
   "source": []
  },
  {
   "cell_type": "code",
   "execution_count": null,
   "metadata": {},
   "outputs": [],
   "source": []
  },
  {
   "cell_type": "code",
   "execution_count": 34,
   "metadata": {},
   "outputs": [],
   "source": [
    "test = [{'this': 999}]"
   ]
  },
  {
   "cell_type": "code",
   "execution_count": 35,
   "metadata": {},
   "outputs": [
    {
     "data": {
      "text/plain": [
       "[{'this': 999},\n",
       " {'id': 'df919224-0e49-4098-9ec5-d2c5f0a91053',\n",
       "  'name': 'Caligo Skin-Witch',\n",
       "  'prices': {'usd': None, 'usd_foil': None, 'eur': None, 'tix': None}},\n",
       " {'id': '3c83d4e8-abb7-40a7-b8ed-159a2484a009',\n",
       "  'name': 'Cairn Wanderer',\n",
       "  'prices': {'usd': '2.81', 'usd_foil': None, 'eur': None, 'tix': None}},\n",
       " {'id': '7b00bfd2-720d-4896-91fb-4a5115e63fbc',\n",
       "  'name': 'Cadaver Imp',\n",
       "  'prices': {'usd': None, 'usd_foil': None, 'eur': None, 'tix': None}},\n",
       " {'id': '90313a3a-7601-49c7-902e-58d6ec94225b',\n",
       "  'name': 'Cackling Imp',\n",
       "  'prices': {'usd': None, 'usd_foil': None, 'eur': None, 'tix': None}},\n",
       " {'id': '2afc9aa7-eaf2-453d-942c-23bf216a1844',\n",
       "  'name': 'Cabal Therapy',\n",
       "  'prices': {'usd': None, 'usd_foil': None, 'eur': None, 'tix': None}},\n",
       " {'id': 'e046bccf-f714-4bf3-9323-388656dd2cd8',\n",
       "  'name': \"Butcher's Glee\",\n",
       "  'prices': {'usd': None, 'usd_foil': None, 'eur': None, 'tix': None}},\n",
       " {'id': '9f8fabe2-fd0b-48a0-ad05-6e0cbc4acf74',\n",
       "  'name': 'Breeding Pit',\n",
       "  'prices': {'usd': None, 'usd_foil': None, 'eur': None, 'tix': None}},\n",
       " {'id': 'e4c84a8c-9fd3-4a63-b322-809a748b5ecb',\n",
       "  'name': 'Boon of Emrakul',\n",
       "  'prices': {'usd': None, 'usd_foil': None, 'eur': None, 'tix': None}},\n",
       " {'id': '0602df44-7e23-46de-bb0b-8f9c67b883df',\n",
       "  'name': 'Bone Splinters',\n",
       "  'prices': {'usd': None, 'usd_foil': None, 'eur': None, 'tix': None}},\n",
       " {'id': '0b332d26-ca9a-458d-9dbc-41f1cf5c4c6a',\n",
       "  'name': 'Bloodrite Invoker',\n",
       "  'prices': {'usd': None, 'usd_foil': None, 'eur': None, 'tix': None}},\n",
       " {'id': '877558c4-f633-4510-97db-f1205a080ecb',\n",
       "  'name': 'Blood Artist',\n",
       "  'prices': {'usd': '4.01', 'usd_foil': None, 'eur': None, 'tix': None}},\n",
       " {'id': '98f66448-1144-47c0-b33d-bbe57efd899c',\n",
       "  'name': 'Blistergrub',\n",
       "  'prices': {'usd': None, 'usd_foil': None, 'eur': None, 'tix': None}},\n",
       " {'id': 'b696f2e5-563f-4f77-b0ae-049ab1e4ba44',\n",
       "  'name': 'Blightsoil Druid',\n",
       "  'prices': {'usd': None, 'usd_foil': None, 'eur': None, 'tix': None}},\n",
       " {'id': 'f76d1050-eaaa-4c23-900f-22f95fb04e1f',\n",
       "  'name': 'Blighted Bat',\n",
       "  'prices': {'usd': None, 'usd_foil': None, 'eur': None, 'tix': None}},\n",
       " {'id': '83dfee3c-ca41-4691-90e8-892cc5de1577',\n",
       "  'name': 'Blessing of Belzenlok',\n",
       "  'prices': {'usd': None, 'usd_foil': None, 'eur': None, 'tix': None}},\n",
       " {'id': '3003857b-d502-4a37-88ff-2165a0555ce8',\n",
       "  'name': 'Bladebrand',\n",
       "  'prices': {'usd': None, 'usd_foil': None, 'eur': None, 'tix': None}},\n",
       " {'id': '03486228-86e3-472f-8a0c-7574daa434e5',\n",
       "  'name': 'Black Market',\n",
       "  'prices': {'usd': '5.72', 'usd_foil': None, 'eur': None, 'tix': None}},\n",
       " {'id': '036297e5-6ecc-487d-86e6-939ecbe3c61c',\n",
       "  'name': 'Black Knight',\n",
       "  'prices': {'usd': None, 'usd_foil': None, 'eur': None, 'tix': None}},\n",
       " {'id': 'c6cced55-1cc0-4a13-a324-409397b37f07',\n",
       "  'name': 'Black Cat',\n",
       "  'prices': {'usd': None, 'usd_foil': None, 'eur': None, 'tix': None}},\n",
       " {'id': '25b29ab9-a077-40c1-a8c3-e1f8074b93d7',\n",
       "  'name': 'Bitter Revelation',\n",
       "  'prices': {'usd': None, 'usd_foil': None, 'eur': None, 'tix': None}},\n",
       " {'id': '23795291-5acc-465f-aa02-95ead947ced8',\n",
       "  'name': 'Bartizan Bats',\n",
       "  'prices': {'usd': None, 'usd_foil': None, 'eur': None, 'tix': None}},\n",
       " {'id': '9dd991a9-4a8f-4679-83ea-046c37d1b118',\n",
       "  'name': 'Balustrade Spy',\n",
       "  'prices': {'usd': None, 'usd_foil': None, 'eur': None, 'tix': None}},\n",
       " {'id': '5a2fbc6e-1c5f-45db-82c7-b8f26e67ef0f',\n",
       "  'name': 'Baleful Ammit',\n",
       "  'prices': {'usd': None, 'usd_foil': None, 'eur': None, 'tix': None}},\n",
       " {'id': '99f2073e-7d74-4d22-bb41-d2feee45dc82',\n",
       "  'name': 'Bala Ged Scorpion',\n",
       "  'prices': {'usd': None, 'usd_foil': None, 'eur': None, 'tix': None}},\n",
       " {'id': 'a1d7d805-3065-426a-a75f-3c916b5de642',\n",
       "  'name': 'Annihilate',\n",
       "  'prices': {'usd': None, 'usd_foil': None, 'eur': None, 'tix': None}},\n",
       " {'id': 'd77ffc48-ccec-4801-bd29-3ee5f05b1deb',\n",
       "  'name': 'Animate Dead',\n",
       "  'prices': {'usd': '4.33', 'usd_foil': None, 'eur': None, 'tix': None}},\n",
       " {'id': '121d71e8-a9a6-4f62-abc7-6d6c8bb46d01',\n",
       "  'name': 'Ancestral Vengeance',\n",
       "  'prices': {'usd': None, 'usd_foil': None, 'eur': None, 'tix': None}},\n",
       " {'id': '13bcce3e-485e-46f1-b39c-326d17abb708',\n",
       "  'name': 'Ambitious Aetherborn',\n",
       "  'prices': {'usd': None, 'usd_foil': None, 'eur': None, 'tix': None}},\n",
       " {'id': '00108a1c-e620-4124-9b31-3bb3ff2a0407',\n",
       "  'name': \"Altar's Reap\",\n",
       "  'prices': {'usd': None, 'usd_foil': None, 'eur': None, 'tix': None}},\n",
       " {'id': 'cbcf6273-1e02-446a-a300-d009c7909b5a',\n",
       "  'name': 'Alley Strangler',\n",
       "  'prices': {'usd': None, 'usd_foil': None, 'eur': None, 'tix': None}},\n",
       " {'id': '3d367fee-514c-4995-95ad-a2a6b3c35270',\n",
       "  'name': \"Alesha's Vanguard\",\n",
       "  'prices': {'usd': None, 'usd_foil': None, 'eur': None, 'tix': None}},\n",
       " {'id': '230ded05-b1e1-44bc-a859-081690596194',\n",
       "  'name': 'Aid the Fallen',\n",
       "  'prices': {'usd': None, 'usd_foil': None, 'eur': None, 'tix': None}},\n",
       " {'id': 'e8e26415-b1af-4718-9aef-aca0297d176f',\n",
       "  'name': 'Accursed Spirit',\n",
       "  'prices': {'usd': '0.25', 'usd_foil': None, 'eur': None, 'tix': None}},\n",
       " {'id': '22984b84-5598-43cd-a18f-1701aa55f922',\n",
       "  'name': 'Absorb Vis',\n",
       "  'prices': {'usd': '0.25', 'usd_foil': None, 'eur': None, 'tix': None}},\n",
       " {'id': '9e2b705b-d315-49fa-9a33-ea57e91fe8e9',\n",
       "  'name': 'Youthful Scholar',\n",
       "  'prices': {'usd': None, 'usd_foil': None, 'eur': None, 'tix': None}},\n",
       " {'id': '548ee36f-b1be-4e81-bb04-1ccdacde615c',\n",
       "  'name': 'Write into Being',\n",
       "  'prices': {'usd': None, 'usd_foil': None, 'eur': None, 'tix': None}},\n",
       " {'id': 'c08d4f91-3859-4c3b-8d56-d4bbe36c4de0',\n",
       "  'name': 'Wretched Gryff',\n",
       "  'prices': {'usd': None, 'usd_foil': None, 'eur': None, 'tix': None}},\n",
       " {'id': '02f592d6-be22-42cf-b182-7993600a6181',\n",
       "  'name': 'Wishful Merfolk',\n",
       "  'prices': {'usd': None, 'usd_foil': None, 'eur': None, 'tix': None}},\n",
       " {'id': 'f368f804-055f-4a4f-bb0c-fe3dc52433c0',\n",
       "  'name': 'Wishcoin Crab',\n",
       "  'prices': {'usd': None, 'usd_foil': None, 'eur': None, 'tix': None}},\n",
       " {'id': '2f670b39-1351-4d0c-8958-79cecb1e1322',\n",
       "  'name': 'Wind Strider',\n",
       "  'prices': {'usd': None, 'usd_foil': None, 'eur': None, 'tix': None}},\n",
       " {'id': '4b19497f-b917-416c-b8d9-fe105f96f280',\n",
       "  'name': 'Windrider Eel',\n",
       "  'prices': {'usd': None, 'usd_foil': None, 'eur': None, 'tix': None}},\n",
       " {'id': '8037f588-6b9f-472d-b26a-2c06db976ad0',\n",
       "  'name': 'Wind-Kin Raiders',\n",
       "  'prices': {'usd': None, 'usd_foil': None, 'eur': None, 'tix': None}},\n",
       " {'id': '4a83db8b-ada2-4796-a116-324462a014a8',\n",
       "  'name': 'Wind Drake',\n",
       "  'prices': {'usd': None, 'usd_foil': None, 'eur': None, 'tix': None}},\n",
       " {'id': '2ef5d303-e91b-4522-a3e0-0b94dc872018',\n",
       "  'name': 'Windcaller Aven',\n",
       "  'prices': {'usd': None, 'usd_foil': None, 'eur': None, 'tix': None}},\n",
       " {'id': 'd3f6a9c7-9b19-420d-a7b3-40fe31ce5713',\n",
       "  'name': 'Whir of Invention',\n",
       "  'prices': {'usd': '3.47', 'usd_foil': None, 'eur': None, 'tix': None}},\n",
       " {'id': '0eed2a1e-118a-4e0c-b670-8561e1700ced',\n",
       "  'name': 'Whiplash Trap',\n",
       "  'prices': {'usd': None, 'usd_foil': None, 'eur': None, 'tix': None}},\n",
       " {'id': 'bc38e0d5-f1fe-46a8-a74a-4b667d1a2c28',\n",
       "  'name': 'Whelming Wave',\n",
       "  'prices': {'usd': None, 'usd_foil': None, 'eur': None, 'tix': None}},\n",
       " {'id': 'b39b7d2b-039f-49b4-a76e-4b6231542bb4',\n",
       "  'name': 'Welkin Tern',\n",
       "  'prices': {'usd': None, 'usd_foil': None, 'eur': None, 'tix': None}},\n",
       " {'id': '47430681-8b22-4661-9bdb-8185ef4ba166',\n",
       "  'name': 'Weldfast Wingsmith',\n",
       "  'prices': {'usd': None, 'usd_foil': None, 'eur': None, 'tix': None}},\n",
       " {'id': 'c36ba40a-d977-41ea-865e-00656dfd5299',\n",
       "  'name': 'Wave-Wing Elemental',\n",
       "  'prices': {'usd': None, 'usd_foil': None, 'eur': None, 'tix': None}},\n",
       " {'id': 'f4f648fc-bf05-4e60-b399-0e0ca82e470c',\n",
       "  'name': 'Watercourser',\n",
       "  'prices': {'usd': None, 'usd_foil': None, 'eur': None, 'tix': None}},\n",
       " {'id': 'bc998bf6-81c8-41b4-a2e5-cb6c8d6c83fc',\n",
       "  'name': 'Warden of Evos Isle',\n",
       "  'prices': {'usd': None, 'usd_foil': None, 'eur': None, 'tix': None}},\n",
       " {'id': '56f9a7ba-d024-49a0-a837-efb5faa24c50',\n",
       "  'name': 'Wall of Frost',\n",
       "  'prices': {'usd': None, 'usd_foil': None, 'eur': None, 'tix': None}},\n",
       " {'id': '82764bb4-874d-497d-ac85-93199646a9e5',\n",
       "  'name': 'Vigean Graftmage',\n",
       "  'prices': {'usd': None, 'usd_foil': None, 'eur': None, 'tix': None}},\n",
       " {'id': '63b67070-38af-42e3-8d23-a081b06033fc',\n",
       "  'name': 'Vapor Snag',\n",
       "  'prices': {'usd': None, 'usd_foil': None, 'eur': None, 'tix': None}},\n",
       " {'id': 'c4c30d7d-0ba6-4953-a90b-ad9405da0f05',\n",
       "  'name': 'Uncomfortable Chill',\n",
       "  'prices': {'usd': None, 'usd_foil': None, 'eur': None, 'tix': None}},\n",
       " {'id': 'c422d5e0-8ae2-4803-95ac-8a873584fc65',\n",
       "  'name': 'Turn Aside',\n",
       "  'prices': {'usd': None, 'usd_foil': None, 'eur': None, 'tix': None}},\n",
       " {'id': '9106bb1b-ea17-4da7-89d2-da856059c5bc',\n",
       "  'name': 'Triton Tactics',\n",
       "  'prices': {'usd': None, 'usd_foil': None, 'eur': None, 'tix': None}},\n",
       " {'id': '586a4c31-65c7-4c7f-b5f6-74b105b2a629',\n",
       "  'name': 'Trinket Mage',\n",
       "  'prices': {'usd': '0.49', 'usd_foil': None, 'eur': None, 'tix': None}},\n",
       " {'id': '051ff6cb-6f34-4d0c-b2dc-b2006fcfd39d',\n",
       "  'name': 'Treasure Mage',\n",
       "  'prices': {'usd': None, 'usd_foil': None, 'eur': None, 'tix': None}},\n",
       " {'id': 'fd01ed44-c83d-4df2-b9ef-c8955e7bb6d1',\n",
       "  'name': 'Treasure Hunt',\n",
       "  'prices': {'usd': '0.79', 'usd_foil': None, 'eur': None, 'tix': None}},\n",
       " {'id': 'acda7194-dd78-4641-8bc2-7f40b05cecec',\n",
       "  'name': 'Treasure Cruise',\n",
       "  'prices': {'usd': '0.75', 'usd_foil': None, 'eur': None, 'tix': None}},\n",
       " {'id': 'f42bd4af-3c3a-4750-8e21-03d0aba3116f',\n",
       "  'name': 'Trail of Evidence',\n",
       "  'prices': {'usd': None, 'usd_foil': None, 'eur': None, 'tix': None}},\n",
       " {'id': '215165e8-16f2-4dbf-932d-06c2a9a174d5',\n",
       "  'name': 'Totally Lost',\n",
       "  'prices': {'usd': None, 'usd_foil': None, 'eur': None, 'tix': None}},\n",
       " {'id': '0e1374a3-0465-4edb-b63e-22c8baaad864',\n",
       "  'name': 'Tinker',\n",
       "  'prices': {'usd': '2.23', 'usd_foil': None, 'eur': None, 'tix': None}},\n",
       " {'id': 'f94db3a7-ae06-494c-8af5-824dee6f23f0',\n",
       "  'name': 'Tidal Wave',\n",
       "  'prices': {'usd': None, 'usd_foil': None, 'eur': None, 'tix': None}},\n",
       " {'id': '991c6965-6e22-4a77-87b4-91c150ca62be',\n",
       "  'name': 'Tidal Warrior',\n",
       "  'prices': {'usd': None, 'usd_foil': None, 'eur': None, 'tix': None}},\n",
       " {'id': '125d16a5-d7b8-4e50-aca1-5f94a0c19260',\n",
       "  'name': 'Thunder Drake',\n",
       "  'prices': {'usd': None, 'usd_foil': None, 'eur': None, 'tix': None}},\n",
       " {'id': 'e4adf2d0-5a76-498e-88d4-474d6934a2f5',\n",
       "  'name': 'Thrummingbird',\n",
       "  'prices': {'usd': None, 'usd_foil': None, 'eur': None, 'tix': None}},\n",
       " {'id': '6fa48ee0-0783-4952-87da-5de28b5e600c',\n",
       "  'name': 'Thought Scour',\n",
       "  'prices': {'usd': None, 'usd_foil': None, 'eur': None, 'tix': None}},\n",
       " {'id': '1759ce5a-bd01-4729-b4ca-712228c50b7f',\n",
       "  'name': 'Thought Collapse',\n",
       "  'prices': {'usd': None, 'usd_foil': None, 'eur': None, 'tix': None}},\n",
       " {'id': 'a0d98f40-39bd-4f3a-9867-d273c1a299e7',\n",
       "  'name': 'Thoughtcast',\n",
       "  'prices': {'usd': None, 'usd_foil': None, 'eur': None, 'tix': None}},\n",
       " {'id': 'e9bcc745-5342-4393-a3ca-37b3cd13446e',\n",
       "  'name': 'Thornwind Faeries',\n",
       "  'prices': {'usd': '0.25', 'usd_foil': None, 'eur': None, 'tix': None}},\n",
       " {'id': '63e2eb69-4d6c-473a-851d-99b527b1c7e1',\n",
       "  'name': 'Thieving Magpie',\n",
       "  'prices': {'usd': None, 'usd_foil': None, 'eur': None, 'tix': None}},\n",
       " {'id': '5c2e92a6-6e18-490c-a39c-327f0ea5efa5',\n",
       "  'name': 'Temporal Mastery',\n",
       "  'prices': {'usd': '9.38', 'usd_foil': None, 'eur': None, 'tix': None}},\n",
       " {'id': 'b486ca76-b147-4364-baa7-1809b7a14546',\n",
       "  'name': 'Temporal Fissure',\n",
       "  'prices': {'usd': None, 'usd_foil': None, 'eur': None, 'tix': None}},\n",
       " {'id': '4fe504bb-7e53-409d-b5b0-f252a3ed5445',\n",
       "  'name': 'Teferi, Temporal Archmage',\n",
       "  'prices': {'usd': '12.62', 'usd_foil': None, 'eur': None, 'tix': None}},\n",
       " {'id': 'a9953e53-3d56-4129-8fab-df33c69b8a95',\n",
       "  'name': 'Tandem Lookout',\n",
       "  'prices': {'usd': None, 'usd_foil': None, 'eur': None, 'tix': None}},\n",
       " {'id': '0ea31d56-3530-41b4-8d31-c6ee16e87ae6',\n",
       "  'name': 'Talrand, Sky Summoner',\n",
       "  'prices': {'usd': '0.99', 'usd_foil': None, 'eur': None, 'tix': None}},\n",
       " {'id': 'ab14844f-233c-4d1a-85e6-d0945ee107ad',\n",
       "  'name': 'Syr Elenora, the Discerning',\n",
       "  'prices': {'usd': None, 'usd_foil': None, 'eur': None, 'tix': None}},\n",
       " {'id': 'd6be7925-5466-4c75-9651-3a314baff72a',\n",
       "  'name': 'Syncopate',\n",
       "  'prices': {'usd': None, 'usd_foil': None, 'eur': None, 'tix': None}},\n",
       " {'id': '27e88b32-ba7a-4a40-bbe6-903303079570',\n",
       "  'name': 'Surrakar Banisher',\n",
       "  'prices': {'usd': None, 'usd_foil': None, 'eur': None, 'tix': None}},\n",
       " {'id': '85232dbe-396c-427d-b736-5f010f4b80bd',\n",
       "  'name': 'Stunt Double',\n",
       "  'prices': {'usd': '3.12', 'usd_foil': None, 'eur': None, 'tix': None}},\n",
       " {'id': 'f7a167fd-005d-455d-91f1-2a95afc4c1b0',\n",
       "  'name': 'Stream of Thought',\n",
       "  'prices': {'usd': None, 'usd_foil': None, 'eur': None, 'tix': None}},\n",
       " {'id': 'd67fe651-d2da-4657-a671-c06f88eac511',\n",
       "  'name': 'Strategic Planning',\n",
       "  'prices': {'usd': None, 'usd_foil': None, 'eur': None, 'tix': None}},\n",
       " {'id': '1833a979-2210-42dd-a18f-68a3248fe766',\n",
       "  'name': 'Storm Sculptor',\n",
       "  'prices': {'usd': None, 'usd_foil': None, 'eur': None, 'tix': None}},\n",
       " {'id': 'c897804e-4993-4b5c-971c-96827fc3a725',\n",
       "  'name': 'Stitched Drake',\n",
       "  'prices': {'usd': None, 'usd_foil': None, 'eur': None, 'tix': None}},\n",
       " {'id': '498b306e-089b-4e4f-b9cd-bd7d91abd5e7',\n",
       "  'name': 'Steady Progress',\n",
       "  'prices': {'usd': None, 'usd_foil': None, 'eur': None, 'tix': None}},\n",
       " {'id': 'b40a12fb-05ef-411a-9914-f7d8cdada01a',\n",
       "  'name': 'Spire Monitor',\n",
       "  'prices': {'usd': None, 'usd_foil': None, 'eur': None, 'tix': None}},\n",
       " {'id': 'a4ce2074-ae7e-445e-90b3-510469d9fff4',\n",
       "  'name': \"Sphinx's Tutelage\",\n",
       "  'prices': {'usd': '2.73', 'usd_foil': None, 'eur': None, 'tix': None}},\n",
       " {'id': 'b74388fe-73a5-43d5-8826-eb077596a4a9',\n",
       "  'name': 'Soothsaying',\n",
       "  'prices': {'usd': '5.49', 'usd_foil': None, 'eur': None, 'tix': None}},\n",
       " {'id': 'edd7f87e-dcb4-4774-a0b5-dd965a5264df',\n",
       "  'name': 'Somber Hoverguard',\n",
       "  'prices': {'usd': None, 'usd_foil': None, 'eur': None, 'tix': None}},\n",
       " {'id': '05b05c26-4179-4faf-9de5-a83b4614f6bd',\n",
       "  'name': 'Snapping Drake',\n",
       "  'prices': {'usd': None, 'usd_foil': None, 'eur': None, 'tix': None}},\n",
       " {'id': 'a3b42202-548e-46f2-90a6-6f952315d157',\n",
       "  'name': 'Snap',\n",
       "  'prices': {'usd': None, 'usd_foil': None, 'eur': None, 'tix': None}},\n",
       " {'id': 'a1218f4d-c5e2-4c88-8410-bd7e4f907028',\n",
       "  'name': 'Slither Blade',\n",
       "  'prices': {'usd': None, 'usd_foil': None, 'eur': None, 'tix': None}},\n",
       " {'id': 'ffe138be-435c-4618-8fc4-6c8af6acfcca',\n",
       "  'name': 'Slipstream Eel',\n",
       "  'prices': {'usd': None, 'usd_foil': None, 'eur': None, 'tix': None}},\n",
       " {'id': 'cfde4291-6979-4919-b860-743bc3c7686e',\n",
       "  'name': 'Sleep',\n",
       "  'prices': {'usd': None, 'usd_foil': None, 'eur': None, 'tix': None}},\n",
       " {'id': 'a7c65d1e-f5e2-42b5-a9a5-eb4126304a8e',\n",
       "  'name': 'Skittering Crustacean',\n",
       "  'prices': {'usd': None, 'usd_foil': None, 'eur': None, 'tix': None}},\n",
       " {'id': '367b02eb-89dd-4b8c-a51f-cd0661d857d4',\n",
       "  'name': 'Skitter Eel',\n",
       "  'prices': {'usd': None, 'usd_foil': None, 'eur': None, 'tix': None}},\n",
       " {'id': 'ef3c7a8e-b52d-4ed5-8c6b-be29d898a275',\n",
       "  'name': 'Skaab Goliath',\n",
       "  'prices': {'usd': None, 'usd_foil': None, 'eur': None, 'tix': None}},\n",
       " {'id': '7fd07489-13c0-4744-a222-ce90ace4ae5b',\n",
       "  'name': 'Singing Bell Strike',\n",
       "  'prices': {'usd': None, 'usd_foil': None, 'eur': None, 'tix': None}},\n",
       " {'id': '9312622d-ebe7-4616-b5c1-bcb9e90985a2',\n",
       "  'name': 'Silvergill Adept',\n",
       "  'prices': {'usd': None, 'usd_foil': None, 'eur': None, 'tix': None}},\n",
       " {'id': 'ef62550a-e6d4-4693-8bb4-1363f07e7e7a',\n",
       "  'name': 'Silent Observer',\n",
       "  'prices': {'usd': None, 'usd_foil': None, 'eur': None, 'tix': None}},\n",
       " {'id': '36ad7c4d-fa1a-4440-b9a7-f722b07df870',\n",
       "  'name': 'Sigiled Starfish',\n",
       "  'prices': {'usd': None, 'usd_foil': None, 'eur': None, 'tix': None}},\n",
       " {'id': '61f1ba12-c674-465b-8df3-edf812ea4447',\n",
       "  'name': 'Shipwreck Looter',\n",
       "  'prices': {'usd': None, 'usd_foil': None, 'eur': None, 'tix': None}},\n",
       " {'id': '372c8095-e06b-4c55-818b-d48635ffd622',\n",
       "  'name': 'Shimmerscale Drake',\n",
       "  'prices': {'usd': None, 'usd_foil': None, 'eur': None, 'tix': None}},\n",
       " {'id': '4e311fa4-c854-45af-9353-5844216255fe',\n",
       "  'name': 'Shaper Parasite',\n",
       "  'prices': {'usd': None, 'usd_foil': None, 'eur': None, 'tix': None}},\n",
       " {'id': '0727043a-3121-4055-9cbe-86dced26ed31',\n",
       "  'name': 'Serendib Efreet',\n",
       "  'prices': {'usd': None, 'usd_foil': None, 'eur': None, 'tix': None}},\n",
       " {'id': '953f4b41-4ed6-4ea0-bcfc-5822723a04a7',\n",
       "  'name': 'Send to Sleep',\n",
       "  'prices': {'usd': None, 'usd_foil': None, 'eur': None, 'tix': None}},\n",
       " {'id': '2a08f978-380c-4443-bbb8-3eb8ad2f513a',\n",
       "  'name': 'Secrets of the Golden City',\n",
       "  'prices': {'usd': None, 'usd_foil': None, 'eur': None, 'tix': None}},\n",
       " {'id': '136eb37c-776c-46df-818a-d29088f0185c',\n",
       "  'name': 'Sealock Monster',\n",
       "  'prices': {'usd': None, 'usd_foil': None, 'eur': None, 'tix': None}},\n",
       " {'id': '20be9bf7-9169-4f3f-b6bd-00eec0994c8f',\n",
       "  'name': 'Sea Gate Oracle',\n",
       "  'prices': {'usd': None, 'usd_foil': None, 'eur': None, 'tix': None}},\n",
       " {'id': '19bc4f11-98d3-4f71-a50f-24eddd551147',\n",
       "  'name': 'Scroll Thief',\n",
       "  'prices': {'usd': None, 'usd_foil': None, 'eur': None, 'tix': None}},\n",
       " {'id': 'd53bc07f-4882-4623-922a-5d19fd02abf7',\n",
       "  'name': 'Sapphire Charm',\n",
       "  'prices': {'usd': None, 'usd_foil': None, 'eur': None, 'tix': None}},\n",
       " {'id': '7e56f614-cba4-49d9-b5fc-7566abba4a10',\n",
       "  'name': 'Sakashima the Impostor',\n",
       "  'prices': {'usd': '26.87', 'usd_foil': None, 'eur': None, 'tix': None}},\n",
       " {'id': '10f7d936-f4f0-4f66-b54c-db99deb01519',\n",
       "  'name': 'Sailor of Means',\n",
       "  'prices': {'usd': None, 'usd_foil': None, 'eur': None, 'tix': None}},\n",
       " {'id': 'fa531291-d404-48a5-a64e-2bfa12514070',\n",
       "  'name': 'Sage of Lat-Nam',\n",
       "  'prices': {'usd': None, 'usd_foil': None, 'eur': None, 'tix': None}},\n",
       " {'id': '0a00b8fa-b6fa-4717-9887-07c85cc10494',\n",
       "  'name': 'Riverwheel Aerialists',\n",
       "  'prices': {'usd': None, 'usd_foil': None, 'eur': None, 'tix': None}},\n",
       " {'id': '951b9269-22fa-4d92-b3d3-43f79fbb2388',\n",
       "  'name': 'River Serpent',\n",
       "  'prices': {'usd': None, 'usd_foil': None, 'eur': None, 'tix': None}},\n",
       " {'id': '8e97eb8b-a8ff-4f5f-a62d-1aee11664ca2',\n",
       "  'name': 'River Darter',\n",
       "  'prices': {'usd': None, 'usd_foil': None, 'eur': None, 'tix': None}},\n",
       " {'id': '51865d7a-7075-47a2-9b1e-9dabee9602ad',\n",
       "  'name': 'Rishadan Footpad',\n",
       "  'prices': {'usd': None, 'usd_foil': None, 'eur': None, 'tix': None}},\n",
       " {'id': '25d12f71-8e69-4a45-9224-bdf8368ec639',\n",
       "  'name': 'Ringwarden Owl',\n",
       "  'prices': {'usd': None, 'usd_foil': None, 'eur': None, 'tix': None}},\n",
       " {'id': 'fe1be1fe-3960-4fa8-9127-6c8c723a91be',\n",
       "  'name': 'Riftwing Cloudskate',\n",
       "  'prices': {'usd': None, 'usd_foil': None, 'eur': None, 'tix': None}},\n",
       " {'id': '710160a6-43b4-4ba7-9dcd-93e01befc66f',\n",
       "  'name': 'Rhystic Study',\n",
       "  'prices': {'usd': '18.46', 'usd_foil': None, 'eur': None, 'tix': None}},\n",
       " {'id': 'a28fde43-76bd-4483-ad79-19842f2f753a',\n",
       "  'name': 'Retraction Helix',\n",
       "  'prices': {'usd': '0.25', 'usd_foil': None, 'eur': None, 'tix': None}},\n",
       " {'id': '5dc06309-c297-4f53-a2f1-155464f424b7',\n",
       "  'name': 'Repulse',\n",
       "  'prices': {'usd': None, 'usd_foil': None, 'eur': None, 'tix': None}},\n",
       " {'id': '429e0b02-94ec-4fab-9a69-a39ccc839c96',\n",
       "  'name': 'Refocus',\n",
       "  'prices': {'usd': None, 'usd_foil': None, 'eur': None, 'tix': None}},\n",
       " {'id': 'a9cc3922-40e9-4384-822e-66c7b9fd97af',\n",
       "  'name': 'Purple-Crystal Crab',\n",
       "  'prices': {'usd': None, 'usd_foil': None, 'eur': None, 'tix': None}},\n",
       " {'id': '24d3dde3-e5f8-4ab7-bd2b-6f45988099ad',\n",
       "  'name': 'Prosperous Pirates',\n",
       "  'prices': {'usd': None, 'usd_foil': None, 'eur': None, 'tix': None}},\n",
       " {'id': '01115986-1963-45c6-b706-2faee6c71e8f',\n",
       "  'name': 'Propaganda',\n",
       "  'prices': {'usd': '8.26', 'usd_foil': None, 'eur': None, 'tix': None}},\n",
       " {'id': '4035304a-b75f-4e97-8c2e-533eeedb9b9e',\n",
       "  'name': 'Prodigal Sorcerer',\n",
       "  'prices': {'usd': None, 'usd_foil': None, 'eur': None, 'tix': None}},\n",
       " {'id': 'bfb3f489-d5b5-4121-a19d-b33c8b6c20ed',\n",
       "  'name': 'Preordain',\n",
       "  'prices': {'usd': '4.07', 'usd_foil': None, 'eur': None, 'tix': None}},\n",
       " {'id': 'b91395ec-36bb-4b92-845c-b3f022ac0d13',\n",
       "  'name': 'Predict',\n",
       "  'prices': {'usd': '1.49', 'usd_foil': None, 'eur': None, 'tix': None}},\n",
       " {'id': '50497300-65e3-42d6-9dbf-4ea066054479',\n",
       "  'name': 'Portent',\n",
       "  'prices': {'usd': None, 'usd_foil': None, 'eur': None, 'tix': None}},\n",
       " {'id': 'd05c1d37-3edd-46c8-8eb9-abbad9211fee',\n",
       "  'name': 'Pondering Mage',\n",
       "  'prices': {'usd': None, 'usd_foil': None, 'eur': None, 'tix': None}},\n",
       " {'id': '34dbcdfe-b48c-44cb-b232-b484f5116cd4',\n",
       "  'name': 'Phyrexian Metamorph',\n",
       "  'prices': {'usd': '7.87', 'usd_foil': None, 'eur': None, 'tix': None}},\n",
       " {'id': 'cb95f8a3-af5d-4cf0-b1cb-4fa99033be36',\n",
       "  'name': 'Phyrexian Ingester',\n",
       "  'prices': {'usd': None, 'usd_foil': None, 'eur': None, 'tix': None}},\n",
       " {'id': '14cd8584-d7f3-4851-a2b6-9a7d8396e651',\n",
       "  'name': 'Phantasmal Dragon',\n",
       "  'prices': {'usd': None, 'usd_foil': None, 'eur': None, 'tix': None}},\n",
       " {'id': '55e52c7b-9e35-498b-8380-5735f97f8afe',\n",
       "  'name': 'Phantasmal Bear',\n",
       "  'prices': {'usd': None, 'usd_foil': None, 'eur': None, 'tix': None}},\n",
       " {'id': 'd600d048-92ee-45f8-9db3-2fb8fc9cd879',\n",
       "  'name': 'Peel from Reality',\n",
       "  'prices': {'usd': None, 'usd_foil': None, 'eur': None, 'tix': None}},\n",
       " {'id': '4a6f3714-cb21-4056-97db-7449be2c2456',\n",
       "  'name': 'Opt',\n",
       "  'prices': {'usd': None, 'usd_foil': None, 'eur': None, 'tix': None}},\n",
       " {'id': '80404ddd-6543-4505-b39b-a87c89c5eeb1',\n",
       "  'name': 'Opportunity',\n",
       "  'prices': {'usd': None, 'usd_foil': None, 'eur': None, 'tix': None}},\n",
       " {'id': 'ba50a1f1-2898-448c-a6dc-0860f49ba216',\n",
       "  'name': 'Omenspeaker',\n",
       "  'prices': {'usd': None, 'usd_foil': None, 'eur': None, 'tix': None}},\n",
       " {'id': '6d220d0e-b0d4-49c9-90bd-9aa655edc429',\n",
       "  'name': \"Ojutai's Breath\",\n",
       "  'prices': {'usd': None, 'usd_foil': None, 'eur': None, 'tix': None}},\n",
       " {'id': '81aa520e-7729-44e9-bdf0-98b89d7095af',\n",
       "  'name': 'Ojutai Interceptor',\n",
       "  'prices': {'usd': None, 'usd_foil': None, 'eur': None, 'tix': None}},\n",
       " {'id': '6394b9e1-674e-4eda-ad0b-206cdbb5bf5e',\n",
       "  'name': 'Ninja of the Deep Hours',\n",
       "  'prices': {'usd': None, 'usd_foil': None, 'eur': None, 'tix': None}},\n",
       " {'id': '1c61fcdc-bf2f-46e1-b96a-98935ccc187d',\n",
       "  'name': 'Nine-Tail White Fox',\n",
       "  'prices': {'usd': None, 'usd_foil': None, 'eur': None, 'tix': None}},\n",
       " {'id': '228cd341-f46a-41be-a2a3-3108105c572b',\n",
       "  'name': 'Niblis of Dusk',\n",
       "  'prices': {'usd': None, 'usd_foil': None, 'eur': None, 'tix': None}},\n",
       " {'id': 'd0165d1f-6d9f-40e1-aaff-d587e4112220',\n",
       "  'name': 'Negate',\n",
       "  'prices': {'usd': None, 'usd_foil': None, 'eur': None, 'tix': None}},\n",
       " {'id': '1f517a41-104e-42bb-bb2a-1c3ca3e5e085',\n",
       "  'name': 'Nagging Thoughts',\n",
       "  'prices': {'usd': None, 'usd_foil': None, 'eur': None, 'tix': None}},\n",
       " {'id': '5cb4e548-005e-4b11-8616-1f73dbb74b45',\n",
       "  'name': 'Mystic of the Hidden Way',\n",
       "  'prices': {'usd': None, 'usd_foil': None, 'eur': None, 'tix': None}},\n",
       " {'id': '5045f15f-6bf9-43a9-a09c-904992625948',\n",
       "  'name': 'Mystic Confluence',\n",
       "  'prices': {'usd': '2.91', 'usd_foil': None, 'eur': None, 'tix': None}},\n",
       " {'id': 'dcc77acd-5596-43a2-9a3f-452d985ef4a5',\n",
       "  'name': 'Mystical Teachings',\n",
       "  'prices': {'usd': None, 'usd_foil': None, 'eur': None, 'tix': None}},\n",
       " {'id': '0dced451-5bed-4025-8418-14a1ca0c88a2',\n",
       "  'name': 'Murder of Crows',\n",
       "  'prices': {'usd': None, 'usd_foil': None, 'eur': None, 'tix': None}},\n",
       " {'id': '95cc00e8-a40f-40d7-a747-d36d0ece6319',\n",
       "  'name': 'Mulldrifter',\n",
       "  'prices': {'usd': '1.00', 'usd_foil': None, 'eur': None, 'tix': None}},\n",
       " {'id': '04d73869-4313-412c-9731-3cf96dea142c',\n",
       "  'name': 'Monastery Loremaster',\n",
       "  'prices': {'usd': None, 'usd_foil': None, 'eur': None, 'tix': None}},\n",
       " {'id': 'ee67faba-1020-44b6-85b7-4857b58588b1',\n",
       "  'name': 'Mnemonic Wall',\n",
       "  'prices': {'usd': None, 'usd_foil': None, 'eur': None, 'tix': None}},\n",
       " {'id': 'c0ea1af2-e86d-4c62-92b1-55473b622592',\n",
       "  'name': 'Mist Raven',\n",
       "  'prices': {'usd': None, 'usd_foil': None, 'eur': None, 'tix': None}},\n",
       " {'id': 'd1f0d34b-ab98-4bb4-8795-58688bcf02b5',\n",
       "  'name': 'Mistform Shrieker',\n",
       "  'prices': {'usd': None, 'usd_foil': None, 'eur': None, 'tix': None}},\n",
       " {'id': '9b6cdf41-a8dc-4be9-a7df-a879cbf62489',\n",
       "  'name': 'Misdirection',\n",
       "  'prices': {'usd': '0.78', 'usd_foil': None, 'eur': None, 'tix': None}},\n",
       " {'id': '18ee3a98-0254-4fe9-ba6b-94eb9266ac70',\n",
       "  'name': 'The Mirari Conjecture',\n",
       "  'prices': {'usd': None, 'usd_foil': None, 'eur': None, 'tix': None}},\n",
       " {'id': 'efb049d0-1dab-4b8b-b4eb-35b10f18f706',\n",
       "  'name': 'Mind Spring',\n",
       "  'prices': {'usd': '0.57', 'usd_foil': None, 'eur': None, 'tix': None}},\n",
       " {'id': '17665a33-f2f3-4647-8fe7-73a2b6f86c3b',\n",
       "  'name': 'Mind Sculpt',\n",
       "  'prices': {'usd': None, 'usd_foil': None, 'eur': None, 'tix': None}},\n",
       " {'id': 'ba14bbe1-c9e9-4d59-9767-7c7b966d095a',\n",
       "  'name': 'Metallic Rebuke',\n",
       "  'prices': {'usd': None, 'usd_foil': None, 'eur': None, 'tix': None}},\n",
       " {'id': '1da770c0-fd1f-4a60-9690-ef08dc65b01a',\n",
       "  'name': 'Messenger Jays',\n",
       "  'prices': {'usd': None, 'usd_foil': None, 'eur': None, 'tix': None}},\n",
       " {'id': 'c0382aba-9a4a-41c8-bb68-a8e11d15143a',\n",
       "  'name': 'Merfolk Looter',\n",
       "  'prices': {'usd': None, 'usd_foil': None, 'eur': None, 'tix': None}},\n",
       " {'id': 'd0524213-198d-4c9f-a9ba-8906ec841b19',\n",
       "  'name': 'Memory Lapse',\n",
       "  'prices': {'usd': None, 'usd_foil': None, 'eur': None, 'tix': None}},\n",
       " {'id': '1ac12aba-0ec6-4922-94cb-1b77634a603b',\n",
       "  'name': 'Memory Erosion',\n",
       "  'prices': {'usd': '1.85', 'usd_foil': None, 'eur': None, 'tix': None}},\n",
       " {'id': '62c5cda2-3c4c-41bd-bcf8-882f1751e9a3',\n",
       "  'name': 'Maximize Altitude',\n",
       "  'prices': {'usd': None, 'usd_foil': None, 'eur': None, 'tix': None}},\n",
       " {'id': 'c438a6a7-fe70-4e6b-b299-8e488228fb9d',\n",
       "  'name': 'Master Transmuter',\n",
       "  'prices': {'usd': '10.92', 'usd_foil': None, 'eur': None, 'tix': None}},\n",
       " {'id': '0a767474-ba5a-4141-a926-a384bb1d3626',\n",
       "  'name': \"Man-o'-War\",\n",
       "  'prices': {'usd': None, 'usd_foil': None, 'eur': None, 'tix': None}},\n",
       " {'id': '0b54b6f3-9ee3-4f6e-bde6-b54fc038a132',\n",
       "  'name': 'Mana Leak',\n",
       "  'prices': {'usd': None, 'usd_foil': None, 'eur': None, 'tix': None}},\n",
       " {'id': '37f1d02c-8258-45e8-97f3-67b610081092',\n",
       "  'name': 'Mahamoti Djinn',\n",
       "  'prices': {'usd': None, 'usd_foil': None, 'eur': None, 'tix': None}},\n",
       " {'id': 'b944aebc-88ab-40a6-a2cd-9af8438371cb',\n",
       "  'name': 'Leapfrog',\n",
       "  'prices': {'usd': '1.00', 'usd_foil': None, 'eur': None, 'tix': None}},\n",
       " {'id': 'd3592353-7d29-480a-a074-0d5a51c189d4',\n",
       "  'name': 'Lay Claim',\n",
       "  'prices': {'usd': None, 'usd_foil': None, 'eur': None, 'tix': None}}]"
      ]
     },
     "execution_count": 35,
     "metadata": {},
     "output_type": "execute_result"
    }
   ],
   "source": [
    "test + data"
   ]
  },
  {
   "cell_type": "code",
   "execution_count": null,
   "metadata": {},
   "outputs": [],
   "source": []
  },
  {
   "cell_type": "code",
   "execution_count": null,
   "metadata": {},
   "outputs": [],
   "source": []
  },
  {
   "cell_type": "code",
   "execution_count": 44,
   "metadata": {},
   "outputs": [],
   "source": [
    "one = res.json()['data'][0]"
   ]
  },
  {
   "cell_type": "code",
   "execution_count": 5,
   "metadata": {},
   "outputs": [
    {
     "data": {
      "text/plain": [
       "175"
      ]
     },
     "execution_count": 5,
     "metadata": {},
     "output_type": "execute_result"
    }
   ],
   "source": [
    "len(res.json()['data'])"
   ]
  },
  {
   "cell_type": "code",
   "execution_count": 9,
   "metadata": {},
   "outputs": [],
   "source": [
    "BATCH_LIMIT = 25\n",
    "CARDS_PER_PAGE = 175"
   ]
  },
  {
   "cell_type": "code",
   "execution_count": 11,
   "metadata": {},
   "outputs": [
    {
     "data": {
      "text/plain": [
       "[(0, 25), (25, 50), (50, 75), (75, 100), (100, 125), (125, 150), (150, 175)]"
      ]
     },
     "execution_count": 11,
     "metadata": {},
     "output_type": "execute_result"
    }
   ],
   "source": [
    "dynamo_batch = [(first, first+BATCH_LIMIT) for first in list(range(0, CARDS_PER_PAGE, BATCH_LIMIT))]\n",
    "dynamo_batch"
   ]
  },
  {
   "cell_type": "code",
   "execution_count": 21,
   "metadata": {},
   "outputs": [
    {
     "data": {
      "text/plain": [
       "(0, 25)"
      ]
     },
     "execution_count": 21,
     "metadata": {},
     "output_type": "execute_result"
    }
   ],
   "source": [
    "batch = dynamo_batch[0]\n",
    "batch"
   ]
  },
  {
   "cell_type": "code",
   "execution_count": 34,
   "metadata": {},
   "outputs": [
    {
     "data": {
      "text/plain": [
       "[]"
      ]
     },
     "execution_count": 34,
     "metadata": {},
     "output_type": "execute_result"
    }
   ],
   "source": [
    "list(range(5, 5))"
   ]
  },
  {
   "cell_type": "raw",
   "metadata": {},
   "source": []
  },
  {
   "cell_type": "code",
   "execution_count": 23,
   "metadata": {},
   "outputs": [],
   "source": [
    "table = 'global-cards-table'"
   ]
  },
  {
   "cell_type": "code",
   "execution_count": 142,
   "metadata": {},
   "outputs": [],
   "source": [
    "cards = res.json()['data'][batch[0]:batch[1]]"
   ]
  },
  {
   "cell_type": "code",
   "execution_count": 140,
   "metadata": {},
   "outputs": [
    {
     "data": {
      "text/plain": [
       "0"
      ]
     },
     "execution_count": 140,
     "metadata": {},
     "output_type": "execute_result"
    }
   ],
   "source": [
    "len(cards[0]['mana_cost'])"
   ]
  },
  {
   "cell_type": "code",
   "execution_count": 143,
   "metadata": {},
   "outputs": [],
   "source": [
    "for idx, card in enumerate(cards):\n",
    "    for key, val in card.items():\n",
    "        cards[idx][key] = batch_format(val)\n",
    "    cards[idx]['cardId'] = cards[idx]['id']"
   ]
  },
  {
   "cell_type": "code",
   "execution_count": 88,
   "metadata": {},
   "outputs": [],
   "source": [
    "def save_scryfall_page(table, page):\n",
    "    dynamo_batches = [(first, first+BATCH_LIMIT) for first in list(range(0, CARDS_PER_PAGE, BATCH_LIMIT))]\n",
    "\n",
    "    res = requests.get(CARDS_URL.format(page))\n",
    "    for batch in dynamo_batch:\n",
    "        cards = res.json()['data'][batch[0]:batch[1]]\n",
    "        # Save to Dynamo\n",
    "        RequestItems = {\n",
    "            table: [\n",
    "                {\n",
    "                    'PutRequest': {\n",
    "                        'Item': card\n",
    "                    }\n",
    "                } for card in cards\n",
    "            ]\n",
    "        }\n",
    "        return RequestItems\n",
    "        #_ = dynamodb_lib.call(table, 'batch_write_item', RequestItems)"
   ]
  },
  {
   "cell_type": "code",
   "execution_count": 113,
   "metadata": {},
   "outputs": [],
   "source": [
    "items = save_scryfall_page(table, 1)"
   ]
  },
  {
   "cell_type": "code",
   "execution_count": 84,
   "metadata": {},
   "outputs": [],
   "source": [
    "def batch_format(val):\n",
    "    if type(val) is str:\n",
    "        return {\"S\": str(val)} if len(val)>0 else {\"NULL\": True}\n",
    "    if type(val) is int:\n",
    "        return {\"N\": str(val)}\n",
    "    if type(val) is float:\n",
    "        return {\"N\": str(val)}\n",
    "    if type(val) is list:\n",
    "        if len(val)>0:\n",
    "            if type(val[0]) is str:\n",
    "                return {\"SS\": val}\n",
    "            if type(val[0]) is int:\n",
    "                return {\"NS\": [str(item) for item in val]}\n",
    "            if type(val[0]) is float:\n",
    "                return {\"NS\": [str(item) for item in val]}\n",
    "            if type(val[0]) is dict:\n",
    "                return {\n",
    "                        \"M\": {\n",
    "                                str(idx): {\n",
    "                                    \"M\": {dict_key: batch_format(dict_val) for dict_key, dict_val in dict_item.items()}\n",
    "                                } for idx, dict_item in enumerate(val)\n",
    "                            }  \n",
    "                        }\n",
    "        else:\n",
    "            return {\"SS\": ['empty']}\n",
    "    if type(val) is bool:\n",
    "        return {\"BOOL\": True}\n",
    "    if val is None:\n",
    "        return {\"NULL\": True}\n",
    "    if type(val) is dict:\n",
    "        return {\"M\": {val_key: batch_format(val_val) for val_key, val_val in val.items()}}"
   ]
  },
  {
   "cell_type": "code",
   "execution_count": 88,
   "metadata": {},
   "outputs": [],
   "source": [
    "cards = res.json()['data']"
   ]
  },
  {
   "cell_type": "code",
   "execution_count": 89,
   "metadata": {},
   "outputs": [],
   "source": [
    "for key, val in cards[1].items():\n",
    "    cards[1][key] = batch_format(val)"
   ]
  },
  {
   "cell_type": "code",
   "execution_count": 90,
   "metadata": {},
   "outputs": [
    {
     "data": {
      "text/plain": [
       "{'object': {'S': 'card'},\n",
       " 'id': {'S': '940509ec-8f58-4593-a598-142a827f55b0'},\n",
       " 'oracle_id': {'S': '2b565791-1b94-4dad-a48d-be7fc2198e19'},\n",
       " 'multiverse_ids': {'SS': ['empty']},\n",
       " 'tcgplayer_id': {'N': '204039'},\n",
       " 'name': {'S': 'Jushi Apprentice // Tomoya the Revealer'},\n",
       " 'lang': {'S': 'en'},\n",
       " 'released_at': {'S': '2019-11-07'},\n",
       " 'uri': {'S': 'https://api.scryfall.com/cards/940509ec-8f58-4593-a598-142a827f55b0'},\n",
       " 'scryfall_uri': {'S': 'https://scryfall.com/card/mb1/411/jushi-apprentice-tomoya-the-revealer?utm_source=api'},\n",
       " 'layout': {'S': 'flip'},\n",
       " 'highres_image': {'BOOL': True},\n",
       " 'image_uris': {'M': {'small': {'S': 'https://img.scryfall.com/cards/small/front/9/4/940509ec-8f58-4593-a598-142a827f55b0.jpg?1573507789'},\n",
       "   'normal': {'S': 'https://img.scryfall.com/cards/normal/front/9/4/940509ec-8f58-4593-a598-142a827f55b0.jpg?1573507789'},\n",
       "   'large': {'S': 'https://img.scryfall.com/cards/large/front/9/4/940509ec-8f58-4593-a598-142a827f55b0.jpg?1573507789'},\n",
       "   'png': {'S': 'https://img.scryfall.com/cards/png/front/9/4/940509ec-8f58-4593-a598-142a827f55b0.png?1573507789'},\n",
       "   'art_crop': {'S': 'https://img.scryfall.com/cards/art_crop/front/9/4/940509ec-8f58-4593-a598-142a827f55b0.jpg?1573507789'},\n",
       "   'border_crop': {'S': 'https://img.scryfall.com/cards/border_crop/front/9/4/940509ec-8f58-4593-a598-142a827f55b0.jpg?1573507789'}}},\n",
       " 'mana_cost': {'S': '{1}{U}'},\n",
       " 'cmc': {'N': '2.0'},\n",
       " 'type_line': {'S': 'Creature — Human Wizard // Legendary Creature — Human Wizard'},\n",
       " 'power': {'S': '1'},\n",
       " 'toughness': {'S': '2'},\n",
       " 'colors': {'SS': ['U']},\n",
       " 'color_identity': {'SS': ['U']},\n",
       " 'card_faces': {'M': {'0': {'M': {'object': {'S': 'card_face'},\n",
       "     'name': {'S': 'Jushi Apprentice'},\n",
       "     'mana_cost': {'S': '{1}{U}'},\n",
       "     'type_line': {'S': 'Creature — Human Wizard'},\n",
       "     'oracle_text': {'S': '{2}{U}, {T}: Draw a card. If you have nine or more cards in hand, flip Jushi Apprentice.'},\n",
       "     'power': {'S': '1'},\n",
       "     'toughness': {'S': '2'},\n",
       "     'artist': {'S': 'Glen Angus'},\n",
       "     'artist_id': {'S': '7be3b9e4-de9b-4a3d-884e-e67b9681d409'},\n",
       "     'illustration_id': {'S': '42548f86-c5d6-4056-b5d4-9087d24f0549'}}},\n",
       "   '1': {'M': {'object': {'S': 'card_face'},\n",
       "     'name': {'S': 'Tomoya the Revealer'},\n",
       "     'mana_cost': {'NULL': True},\n",
       "     'type_line': {'S': 'Legendary Creature — Human Wizard'},\n",
       "     'oracle_text': {'S': '{3}{U}{U}, {T}: Target player draws X cards, where X is the number of cards in your hand.'},\n",
       "     'power': {'S': '2'},\n",
       "     'toughness': {'S': '3'},\n",
       "     'artist': {'S': 'Glen Angus'},\n",
       "     'artist_id': {'S': '7be3b9e4-de9b-4a3d-884e-e67b9681d409'}}}}},\n",
       " 'legalities': {'M': {'standard': {'S': 'not_legal'},\n",
       "   'future': {'S': 'not_legal'},\n",
       "   'historic': {'S': 'not_legal'},\n",
       "   'pioneer': {'S': 'not_legal'},\n",
       "   'modern': {'S': 'legal'},\n",
       "   'legacy': {'S': 'legal'},\n",
       "   'pauper': {'S': 'not_legal'},\n",
       "   'vintage': {'S': 'legal'},\n",
       "   'penny': {'S': 'legal'},\n",
       "   'commander': {'S': 'legal'},\n",
       "   'brawl': {'S': 'not_legal'},\n",
       "   'duel': {'S': 'legal'},\n",
       "   'oldschool': {'S': 'not_legal'}}},\n",
       " 'games': {'SS': ['paper']},\n",
       " 'reserved': {'BOOL': True},\n",
       " 'foil': {'BOOL': True},\n",
       " 'nonfoil': {'BOOL': True},\n",
       " 'oversized': {'BOOL': True},\n",
       " 'promo': {'BOOL': True},\n",
       " 'reprint': {'BOOL': True},\n",
       " 'variation': {'BOOL': True},\n",
       " 'set': {'S': 'mb1'},\n",
       " 'set_name': {'S': 'Mystery Booster'},\n",
       " 'set_type': {'S': 'funny'},\n",
       " 'set_uri': {'S': 'https://api.scryfall.com/sets/d13bfc70-6137-4179-aa96-da30fd84de29'},\n",
       " 'set_search_uri': {'S': 'https://api.scryfall.com/cards/search?order=set&q=e%3Amb1&unique=prints'},\n",
       " 'scryfall_set_uri': {'S': 'https://scryfall.com/sets/mb1?utm_source=api'},\n",
       " 'rulings_uri': {'S': 'https://api.scryfall.com/cards/940509ec-8f58-4593-a598-142a827f55b0/rulings'},\n",
       " 'prints_search_uri': {'S': 'https://api.scryfall.com/cards/search?order=released&q=oracleid%3A2b565791-1b94-4dad-a48d-be7fc2198e19&unique=prints'},\n",
       " 'collector_number': {'S': '411'},\n",
       " 'digital': {'BOOL': True},\n",
       " 'rarity': {'S': 'rare'},\n",
       " 'card_back_id': {'S': '0aeebaf5-8c7d-4636-9e82-8c27447861f7'},\n",
       " 'artist': {'S': 'Glen Angus'},\n",
       " 'artist_ids': {'SS': ['7be3b9e4-de9b-4a3d-884e-e67b9681d409']},\n",
       " 'illustration_id': {'S': '42548f86-c5d6-4056-b5d4-9087d24f0549'},\n",
       " 'border_color': {'S': 'black'},\n",
       " 'frame': {'S': '2003'},\n",
       " 'full_art': {'BOOL': True},\n",
       " 'textless': {'BOOL': True},\n",
       " 'booster': {'BOOL': True},\n",
       " 'story_spotlight': {'BOOL': True},\n",
       " 'edhrec_rank': {'N': '7001'},\n",
       " 'prices': {'M': {'usd': {'NULL': True},\n",
       "   'usd_foil': {'NULL': True},\n",
       "   'eur': {'NULL': True},\n",
       "   'tix': {'NULL': True}}},\n",
       " 'related_uris': {'M': {'tcgplayer_decks': {'S': 'https://decks.tcgplayer.com/magic/deck/search?contains=Jushi+Apprentice&page=1&partner=Scryfall&utm_campaign=affiliate&utm_medium=scryfall&utm_source=scryfall'},\n",
       "   'edhrec': {'S': 'https://edhrec.com/route/?cc=Jushi+Apprentice'},\n",
       "   'mtgtop8': {'S': 'https://mtgtop8.com/search?MD_check=1&SB_check=1&cards=Jushi+Apprentice'}}},\n",
       " 'purchase_uris': {'M': {'tcgplayer': {'S': 'https://shop.tcgplayer.com/product/productsearch?id=204039&partner=Scryfall&utm_campaign=affiliate&utm_medium=scryfall&utm_source=scryfall'},\n",
       "   'cardmarket': {'S': 'https://www.cardmarket.com/en/Magic/Products/Search?referrer=scryfall&searchString=Jushi+Apprentice&utm_campaign=card_prices&utm_medium=text&utm_source=scryfall'},\n",
       "   'cardhoarder': {'S': 'https://www.cardhoarder.com/cards?affiliate_id=scryfall&data%5Bsearch%5D=Jushi+Apprentice&ref=card-profile&utm_campaign=affiliate&utm_medium=card&utm_source=scryfall'}}}}"
      ]
     },
     "execution_count": 90,
     "metadata": {},
     "output_type": "execute_result"
    }
   ],
   "source": [
    "cards[1]"
   ]
  },
  {
   "cell_type": "code",
   "execution_count": null,
   "metadata": {},
   "outputs": [],
   "source": []
  },
  {
   "cell_type": "code",
   "execution_count": 49,
   "metadata": {},
   "outputs": [],
   "source": [
    "cards = res.json()['data'][0:100]\n",
    "\n",
    "for idx, card in enumerate(cards):\n",
    "    for key, val in card.items():\n",
    "        cards[idx][key] = batch_format(val)\n",
    "    cards[idx]['cardId'] = cards[idx]['id']"
   ]
  },
  {
   "cell_type": "code",
   "execution_count": null,
   "metadata": {},
   "outputs": [],
   "source": [
    "cards = res.json()['data'][batch[0]:batch[1]]"
   ]
  },
  {
   "cell_type": "code",
   "execution_count": 4,
   "metadata": {},
   "outputs": [
    {
     "data": {
      "text/plain": [
       "263830"
      ]
     },
     "execution_count": 4,
     "metadata": {},
     "output_type": "execute_result"
    }
   ],
   "source": [
    "res.json()['total_cards']"
   ]
  },
  {
   "cell_type": "code",
   "execution_count": 5,
   "metadata": {},
   "outputs": [],
   "source": [
    "import math"
   ]
  },
  {
   "cell_type": "code",
   "execution_count": 6,
   "metadata": {},
   "outputs": [
    {
     "data": {
      "text/plain": [
       "1508"
      ]
     },
     "execution_count": 6,
     "metadata": {},
     "output_type": "execute_result"
    }
   ],
   "source": [
    "cards_per_page = 175\n",
    "total_cards = res.json()['total_cards']\n",
    "\n",
    "total_pages = math.ceil(total_cards / cards_per_page)\n",
    "\n",
    "total_pages"
   ]
  },
  {
   "cell_type": "code",
   "execution_count": 9,
   "metadata": {},
   "outputs": [],
   "source": [
    "PAGES_PER_WORKER = 100"
   ]
  },
  {
   "cell_type": "code",
   "execution_count": 22,
   "metadata": {},
   "outputs": [],
   "source": [
    "total_pages = 1508"
   ]
  },
  {
   "cell_type": "code",
   "execution_count": 24,
   "metadata": {},
   "outputs": [
    {
     "data": {
      "text/plain": [
       "[(1, 101),\n",
       " (101, 201),\n",
       " (201, 301),\n",
       " (301, 401),\n",
       " (401, 501),\n",
       " (501, 601),\n",
       " (601, 701),\n",
       " (701, 801),\n",
       " (801, 901),\n",
       " (901, 1001),\n",
       " (1001, 1101),\n",
       " (1101, 1201),\n",
       " (1201, 1301),\n",
       " (1301, 1401),\n",
       " (1401, 1501),\n",
       " (1501, 1601)]"
      ]
     },
     "execution_count": 24,
     "metadata": {},
     "output_type": "execute_result"
    }
   ],
   "source": [
    "worker_pages = [(first, first+PAGES_PER_WORKER) for first in list(range(1, total_pages+1, PAGES_PER_WORKER))]\n",
    "worker_pages"
   ]
  },
  {
   "cell_type": "code",
   "execution_count": 15,
   "metadata": {},
   "outputs": [],
   "source": [
    "CARDS_URL = 'https://api.scryfall.com/cards?page={}'"
   ]
  },
  {
   "cell_type": "code",
   "execution_count": 16,
   "metadata": {},
   "outputs": [
    {
     "data": {
      "text/plain": [
       "'https://api.scryfall.com/cards?page=1'"
      ]
     },
     "execution_count": 16,
     "metadata": {},
     "output_type": "execute_result"
    }
   ],
   "source": [
    "CARDS_URL.format(1)"
   ]
  },
  {
   "cell_type": "code",
   "execution_count": 27,
   "metadata": {},
   "outputs": [],
   "source": [
    "cards_url = 'https://api.scryfall.com/cards?page=10'"
   ]
  },
  {
   "cell_type": "code",
   "execution_count": 30,
   "metadata": {},
   "outputs": [
    {
     "data": {
      "text/plain": [
       "10"
      ]
     },
     "execution_count": 30,
     "metadata": {},
     "output_type": "execute_result"
    }
   ],
   "source": [
    "int(str.split(cards_url, '=')[1])"
   ]
  },
  {
   "cell_type": "code",
   "execution_count": 33,
   "metadata": {},
   "outputs": [],
   "source": [
    "import datetime"
   ]
  },
  {
   "cell_type": "code",
   "execution_count": 35,
   "metadata": {},
   "outputs": [],
   "source": [
    "start = datetime.datetime.now()"
   ]
  },
  {
   "cell_type": "code",
   "execution_count": 37,
   "metadata": {},
   "outputs": [
    {
     "name": "stdout",
     "output_type": "stream",
     "text": [
      "0:00:23.186929\n"
     ]
    }
   ],
   "source": [
    "print(datetime.datetime.now() - then)"
   ]
  },
  {
   "cell_type": "code",
   "execution_count": 38,
   "metadata": {},
   "outputs": [
    {
     "name": "stdout",
     "output_type": "stream",
     "text": [
      "Getting page https://api.scryfall.com/cards?page=10\n",
      "Getting page https://api.scryfall.com/cards?page=20\n",
      "Getting page https://api.scryfall.com/cards?page=30\n",
      "Getting page https://api.scryfall.com/cards?page=40\n",
      "Getting page https://api.scryfall.com/cards?page=50\n",
      "Getting page https://api.scryfall.com/cards?page=60\n",
      "Getting page https://api.scryfall.com/cards?page=70\n",
      "Getting page https://api.scryfall.com/cards?page=80\n",
      "Getting page https://api.scryfall.com/cards?page=90\n",
      "Getting page https://api.scryfall.com/cards?page=100\n",
      "0:05:45.799994\n"
     ]
    }
   ],
   "source": [
    "start = datetime.datetime.now()\n",
    "all_cards_path = os.path.join(os.getcwd(), 'data', 'all_scryfall.json')\n",
    "all_cards_df = pd.DataFrame()\n",
    "cards_url = 'https://api.scryfall.com/cards?page=1'\n",
    "cards_per_page = 175\n",
    "has_more = True\n",
    "while has_more:\n",
    "#while int(str.split(cards_url, '=')[1]) < 101:\n",
    "    res = requests.get(cards_url)\n",
    "    \n",
    "    #if int(cards_url[-1]) % 10 == 0:\n",
    "    #    print('Getting page {}'.format(cards_url))\n",
    "    \n",
    "    cards_df = pd.DataFrame.from_dict(res.json()['data'])\n",
    "\n",
    "    all_cards_df = pd.concat([all_cards_df, cards_df], sort=True, ignore_index=True)\n",
    "          \n",
    "    has_more = res.json()['has_more']\n",
    "    cards_url = res.json()['next_page']\n",
    "    \n",
    "    sleep(0.1)\n",
    "\n",
    "print(datetime.datetime.now() - then)\n",
    "#all_cards_df.to_json(all_cards_path)"
   ]
  },
  {
   "cell_type": "code",
   "execution_count": 8,
   "metadata": {},
   "outputs": [
    {
     "data": {
      "text/plain": [
       "'C:\\\\Users\\\\LWEST\\\\Desktop\\\\mtgml-api\\\\notebooks\\\\..\\\\data\\\\all_scryfall.json'"
      ]
     },
     "execution_count": 8,
     "metadata": {},
     "output_type": "execute_result"
    }
   ],
   "source": [
    "all_cards_path"
   ]
  },
  {
   "cell_type": "code",
   "execution_count": 9,
   "metadata": {},
   "outputs": [],
   "source": [
    "all_cards_path = os.path.join(os.getcwd(), '..', 'data', 'all_scryfall.json')\n",
    "\n",
    "all_cards_df = pd.read_json(all_cards_path)"
   ]
  },
  {
   "cell_type": "code",
   "execution_count": 10,
   "metadata": {},
   "outputs": [
    {
     "data": {
      "text/plain": [
       "(261438, 73)"
      ]
     },
     "execution_count": 10,
     "metadata": {},
     "output_type": "execute_result"
    }
   ],
   "source": [
    "all_cards_df.shape"
   ]
  },
  {
   "cell_type": "code",
   "execution_count": 13,
   "metadata": {},
   "outputs": [
    {
     "data": {
      "text/html": [
       "<div>\n",
       "<style scoped>\n",
       "    .dataframe tbody tr th:only-of-type {\n",
       "        vertical-align: middle;\n",
       "    }\n",
       "\n",
       "    .dataframe tbody tr th {\n",
       "        vertical-align: top;\n",
       "    }\n",
       "\n",
       "    .dataframe thead th {\n",
       "        text-align: right;\n",
       "    }\n",
       "</style>\n",
       "<table border=\"1\" class=\"dataframe\">\n",
       "  <thead>\n",
       "    <tr style=\"text-align: right;\">\n",
       "      <th></th>\n",
       "      <th>all_parts</th>\n",
       "      <th>arena_id</th>\n",
       "      <th>artist</th>\n",
       "      <th>artist_ids</th>\n",
       "      <th>booster</th>\n",
       "      <th>border_color</th>\n",
       "      <th>card_back_id</th>\n",
       "      <th>card_faces</th>\n",
       "      <th>cmc</th>\n",
       "      <th>collector_number</th>\n",
       "      <th>color_identity</th>\n",
       "      <th>color_indicator</th>\n",
       "      <th>colors</th>\n",
       "      <th>digital</th>\n",
       "      <th>edhrec_rank</th>\n",
       "      <th>flavor_text</th>\n",
       "      <th>foil</th>\n",
       "      <th>frame</th>\n",
       "      <th>frame_effects</th>\n",
       "      <th>full_art</th>\n",
       "      <th>games</th>\n",
       "      <th>hand_modifier</th>\n",
       "      <th>highres_image</th>\n",
       "      <th>id</th>\n",
       "      <th>illustration_id</th>\n",
       "      <th>image_uris</th>\n",
       "      <th>lang</th>\n",
       "      <th>layout</th>\n",
       "      <th>legalities</th>\n",
       "      <th>life_modifier</th>\n",
       "      <th>loyalty</th>\n",
       "      <th>mana_cost</th>\n",
       "      <th>mtgo_foil_id</th>\n",
       "      <th>mtgo_id</th>\n",
       "      <th>multiverse_ids</th>\n",
       "      <th>name</th>\n",
       "      <th>nonfoil</th>\n",
       "      <th>object</th>\n",
       "      <th>oracle_id</th>\n",
       "      <th>oracle_text</th>\n",
       "      <th>oversized</th>\n",
       "      <th>power</th>\n",
       "      <th>preview</th>\n",
       "      <th>prices</th>\n",
       "      <th>printed_name</th>\n",
       "      <th>printed_text</th>\n",
       "      <th>printed_type_line</th>\n",
       "      <th>prints_search_uri</th>\n",
       "      <th>promo</th>\n",
       "      <th>promo_types</th>\n",
       "      <th>purchase_uris</th>\n",
       "      <th>rarity</th>\n",
       "      <th>related_uris</th>\n",
       "      <th>released_at</th>\n",
       "      <th>reprint</th>\n",
       "      <th>reserved</th>\n",
       "      <th>rulings_uri</th>\n",
       "      <th>scryfall_set_uri</th>\n",
       "      <th>scryfall_uri</th>\n",
       "      <th>set</th>\n",
       "      <th>set_name</th>\n",
       "      <th>set_search_uri</th>\n",
       "      <th>set_type</th>\n",
       "      <th>set_uri</th>\n",
       "      <th>story_spotlight</th>\n",
       "      <th>tcgplayer_id</th>\n",
       "      <th>textless</th>\n",
       "      <th>toughness</th>\n",
       "      <th>type_line</th>\n",
       "      <th>uri</th>\n",
       "      <th>variation</th>\n",
       "      <th>variation_of</th>\n",
       "      <th>watermark</th>\n",
       "    </tr>\n",
       "  </thead>\n",
       "  <tbody>\n",
       "    <tr>\n",
       "      <th>0</th>\n",
       "      <td>None</td>\n",
       "      <td>NaN</td>\n",
       "      <td>Milivoj Ćeran</td>\n",
       "      <td>[1eced451-4da5-42bc-b49d-70c41246581f]</td>\n",
       "      <td>False</td>\n",
       "      <td>black</td>\n",
       "      <td>0aeebaf5-8c7d-4636-9e82-8c27447861f7</td>\n",
       "      <td>None</td>\n",
       "      <td>6.0</td>\n",
       "      <td>5</td>\n",
       "      <td>[G]</td>\n",
       "      <td>None</td>\n",
       "      <td>[G]</td>\n",
       "      <td>False</td>\n",
       "      <td>NaN</td>\n",
       "      <td>\"Come, my wild children. Let's give the interl...</td>\n",
       "      <td>True</td>\n",
       "      <td>2015</td>\n",
       "      <td>None</td>\n",
       "      <td>False</td>\n",
       "      <td>[paper]</td>\n",
       "      <td>NaN</td>\n",
       "      <td>False</td>\n",
       "      <td>dbcdbf7a-9294-47ad-9f93-c16b78c7463a</td>\n",
       "      <td>fe97c475-ef9a-41b2-872b-2469ac9f48d7</td>\n",
       "      <td>{'small': 'https://img.scryfall.com/cards/smal...</td>\n",
       "      <td>en</td>\n",
       "      <td>normal</td>\n",
       "      <td>{'standard': 'not_legal', 'future': 'not_legal...</td>\n",
       "      <td>NaN</td>\n",
       "      <td>None</td>\n",
       "      <td>{4}{G}{G}</td>\n",
       "      <td>NaN</td>\n",
       "      <td>NaN</td>\n",
       "      <td>[]</td>\n",
       "      <td>Earthshaker Giant</td>\n",
       "      <td>False</td>\n",
       "      <td>card</td>\n",
       "      <td>cd6250ae-9079-4a62-8a70-0d94fbac21bc</td>\n",
       "      <td>Trample\\nWhen Earthshaker Giant enters the bat...</td>\n",
       "      <td>False</td>\n",
       "      <td>6</td>\n",
       "      <td>None</td>\n",
       "      <td>{'usd': None, 'usd_foil': '12.00', 'eur': None...</td>\n",
       "      <td>None</td>\n",
       "      <td>None</td>\n",
       "      <td>None</td>\n",
       "      <td>https://api.scryfall.com/cards/search?order=re...</td>\n",
       "      <td>False</td>\n",
       "      <td>None</td>\n",
       "      <td>{'tcgplayer': 'https://shop.tcgplayer.com/prod...</td>\n",
       "      <td>mythic</td>\n",
       "      <td>{'tcgplayer_decks': 'https://decks.tcgplayer.c...</td>\n",
       "      <td>2019-11-15</td>\n",
       "      <td>False</td>\n",
       "      <td>False</td>\n",
       "      <td>https://api.scryfall.com/cards/dbcdbf7a-9294-4...</td>\n",
       "      <td>https://scryfall.com/sets/gn2?utm_source=api</td>\n",
       "      <td>https://scryfall.com/card/gn2/5/earthshaker-gi...</td>\n",
       "      <td>gn2</td>\n",
       "      <td>Game Night 2019</td>\n",
       "      <td>https://api.scryfall.com/cards/search?order=se...</td>\n",
       "      <td>box</td>\n",
       "      <td>https://api.scryfall.com/sets/a72727dd-dbab-41...</td>\n",
       "      <td>False</td>\n",
       "      <td>200607.0</td>\n",
       "      <td>False</td>\n",
       "      <td>6</td>\n",
       "      <td>Creature — Giant Druid</td>\n",
       "      <td>https://api.scryfall.com/cards/dbcdbf7a-9294-4...</td>\n",
       "      <td>False</td>\n",
       "      <td>None</td>\n",
       "      <td>None</td>\n",
       "    </tr>\n",
       "    <tr>\n",
       "      <th>1</th>\n",
       "      <td>None</td>\n",
       "      <td>NaN</td>\n",
       "      <td>Lucas Graciano</td>\n",
       "      <td>[ce98f39c-7cdd-47e6-a520-6c50443bb4c2]</td>\n",
       "      <td>False</td>\n",
       "      <td>black</td>\n",
       "      <td>0aeebaf5-8c7d-4636-9e82-8c27447861f7</td>\n",
       "      <td>None</td>\n",
       "      <td>6.0</td>\n",
       "      <td>4</td>\n",
       "      <td>[R]</td>\n",
       "      <td>None</td>\n",
       "      <td>[R]</td>\n",
       "      <td>False</td>\n",
       "      <td>NaN</td>\n",
       "      <td>Half the size, double the mayhem.</td>\n",
       "      <td>True</td>\n",
       "      <td>2015</td>\n",
       "      <td>None</td>\n",
       "      <td>False</td>\n",
       "      <td>[paper]</td>\n",
       "      <td>NaN</td>\n",
       "      <td>False</td>\n",
       "      <td>acb3ce9b-ee4f-410a-8db3-e87aeb0a4444</td>\n",
       "      <td>56da4782-3fe9-4230-b426-8e7903fe281f</td>\n",
       "      <td>{'small': 'https://img.scryfall.com/cards/smal...</td>\n",
       "      <td>en</td>\n",
       "      <td>normal</td>\n",
       "      <td>{'standard': 'not_legal', 'future': 'not_legal...</td>\n",
       "      <td>NaN</td>\n",
       "      <td>None</td>\n",
       "      <td>{4}{R}{R}</td>\n",
       "      <td>NaN</td>\n",
       "      <td>NaN</td>\n",
       "      <td>[]</td>\n",
       "      <td>Fiendish Duo</td>\n",
       "      <td>False</td>\n",
       "      <td>card</td>\n",
       "      <td>ab0dfae5-b9d4-417b-8a0d-2525ae3a73b9</td>\n",
       "      <td>First strike\\nIf a source would deal damage to...</td>\n",
       "      <td>False</td>\n",
       "      <td>5</td>\n",
       "      <td>None</td>\n",
       "      <td>{'usd': None, 'usd_foil': '15.00', 'eur': None...</td>\n",
       "      <td>None</td>\n",
       "      <td>None</td>\n",
       "      <td>None</td>\n",
       "      <td>https://api.scryfall.com/cards/search?order=re...</td>\n",
       "      <td>False</td>\n",
       "      <td>None</td>\n",
       "      <td>{'tcgplayer': 'https://shop.tcgplayer.com/prod...</td>\n",
       "      <td>mythic</td>\n",
       "      <td>{'tcgplayer_decks': 'https://decks.tcgplayer.c...</td>\n",
       "      <td>2019-11-15</td>\n",
       "      <td>False</td>\n",
       "      <td>False</td>\n",
       "      <td>https://api.scryfall.com/cards/acb3ce9b-ee4f-4...</td>\n",
       "      <td>https://scryfall.com/sets/gn2?utm_source=api</td>\n",
       "      <td>https://scryfall.com/card/gn2/4/fiendish-duo?u...</td>\n",
       "      <td>gn2</td>\n",
       "      <td>Game Night 2019</td>\n",
       "      <td>https://api.scryfall.com/cards/search?order=se...</td>\n",
       "      <td>box</td>\n",
       "      <td>https://api.scryfall.com/sets/a72727dd-dbab-41...</td>\n",
       "      <td>False</td>\n",
       "      <td>200606.0</td>\n",
       "      <td>False</td>\n",
       "      <td>5</td>\n",
       "      <td>Creature — Devil</td>\n",
       "      <td>https://api.scryfall.com/cards/acb3ce9b-ee4f-4...</td>\n",
       "      <td>False</td>\n",
       "      <td>None</td>\n",
       "      <td>None</td>\n",
       "    </tr>\n",
       "  </tbody>\n",
       "</table>\n",
       "</div>"
      ],
      "text/plain": [
       "  all_parts  arena_id          artist                              artist_ids  \\\n",
       "0      None       NaN   Milivoj Ćeran  [1eced451-4da5-42bc-b49d-70c41246581f]   \n",
       "1      None       NaN  Lucas Graciano  [ce98f39c-7cdd-47e6-a520-6c50443bb4c2]   \n",
       "\n",
       "   booster border_color                          card_back_id card_faces  cmc  \\\n",
       "0    False        black  0aeebaf5-8c7d-4636-9e82-8c27447861f7       None  6.0   \n",
       "1    False        black  0aeebaf5-8c7d-4636-9e82-8c27447861f7       None  6.0   \n",
       "\n",
       "  collector_number color_identity color_indicator colors  digital  \\\n",
       "0                5            [G]            None    [G]    False   \n",
       "1                4            [R]            None    [R]    False   \n",
       "\n",
       "   edhrec_rank                                        flavor_text  foil frame  \\\n",
       "0          NaN  \"Come, my wild children. Let's give the interl...  True  2015   \n",
       "1          NaN                  Half the size, double the mayhem.  True  2015   \n",
       "\n",
       "  frame_effects  full_art    games  hand_modifier  highres_image  \\\n",
       "0          None     False  [paper]            NaN          False   \n",
       "1          None     False  [paper]            NaN          False   \n",
       "\n",
       "                                     id                       illustration_id  \\\n",
       "0  dbcdbf7a-9294-47ad-9f93-c16b78c7463a  fe97c475-ef9a-41b2-872b-2469ac9f48d7   \n",
       "1  acb3ce9b-ee4f-410a-8db3-e87aeb0a4444  56da4782-3fe9-4230-b426-8e7903fe281f   \n",
       "\n",
       "                                          image_uris lang  layout  \\\n",
       "0  {'small': 'https://img.scryfall.com/cards/smal...   en  normal   \n",
       "1  {'small': 'https://img.scryfall.com/cards/smal...   en  normal   \n",
       "\n",
       "                                          legalities  life_modifier loyalty  \\\n",
       "0  {'standard': 'not_legal', 'future': 'not_legal...            NaN    None   \n",
       "1  {'standard': 'not_legal', 'future': 'not_legal...            NaN    None   \n",
       "\n",
       "   mana_cost  mtgo_foil_id  mtgo_id multiverse_ids               name  \\\n",
       "0  {4}{G}{G}           NaN      NaN             []  Earthshaker Giant   \n",
       "1  {4}{R}{R}           NaN      NaN             []       Fiendish Duo   \n",
       "\n",
       "   nonfoil object                             oracle_id  \\\n",
       "0    False   card  cd6250ae-9079-4a62-8a70-0d94fbac21bc   \n",
       "1    False   card  ab0dfae5-b9d4-417b-8a0d-2525ae3a73b9   \n",
       "\n",
       "                                         oracle_text  oversized power preview  \\\n",
       "0  Trample\\nWhen Earthshaker Giant enters the bat...      False     6    None   \n",
       "1  First strike\\nIf a source would deal damage to...      False     5    None   \n",
       "\n",
       "                                              prices printed_name  \\\n",
       "0  {'usd': None, 'usd_foil': '12.00', 'eur': None...         None   \n",
       "1  {'usd': None, 'usd_foil': '15.00', 'eur': None...         None   \n",
       "\n",
       "  printed_text printed_type_line  \\\n",
       "0         None              None   \n",
       "1         None              None   \n",
       "\n",
       "                                   prints_search_uri  promo promo_types  \\\n",
       "0  https://api.scryfall.com/cards/search?order=re...  False        None   \n",
       "1  https://api.scryfall.com/cards/search?order=re...  False        None   \n",
       "\n",
       "                                       purchase_uris  rarity  \\\n",
       "0  {'tcgplayer': 'https://shop.tcgplayer.com/prod...  mythic   \n",
       "1  {'tcgplayer': 'https://shop.tcgplayer.com/prod...  mythic   \n",
       "\n",
       "                                        related_uris released_at  reprint  \\\n",
       "0  {'tcgplayer_decks': 'https://decks.tcgplayer.c...  2019-11-15    False   \n",
       "1  {'tcgplayer_decks': 'https://decks.tcgplayer.c...  2019-11-15    False   \n",
       "\n",
       "   reserved                                        rulings_uri  \\\n",
       "0     False  https://api.scryfall.com/cards/dbcdbf7a-9294-4...   \n",
       "1     False  https://api.scryfall.com/cards/acb3ce9b-ee4f-4...   \n",
       "\n",
       "                               scryfall_set_uri  \\\n",
       "0  https://scryfall.com/sets/gn2?utm_source=api   \n",
       "1  https://scryfall.com/sets/gn2?utm_source=api   \n",
       "\n",
       "                                        scryfall_uri  set         set_name  \\\n",
       "0  https://scryfall.com/card/gn2/5/earthshaker-gi...  gn2  Game Night 2019   \n",
       "1  https://scryfall.com/card/gn2/4/fiendish-duo?u...  gn2  Game Night 2019   \n",
       "\n",
       "                                      set_search_uri set_type  \\\n",
       "0  https://api.scryfall.com/cards/search?order=se...      box   \n",
       "1  https://api.scryfall.com/cards/search?order=se...      box   \n",
       "\n",
       "                                             set_uri  story_spotlight  \\\n",
       "0  https://api.scryfall.com/sets/a72727dd-dbab-41...            False   \n",
       "1  https://api.scryfall.com/sets/a72727dd-dbab-41...            False   \n",
       "\n",
       "   tcgplayer_id  textless toughness               type_line  \\\n",
       "0      200607.0     False         6  Creature — Giant Druid   \n",
       "1      200606.0     False         5        Creature — Devil   \n",
       "\n",
       "                                                 uri  variation variation_of  \\\n",
       "0  https://api.scryfall.com/cards/dbcdbf7a-9294-4...      False         None   \n",
       "1  https://api.scryfall.com/cards/acb3ce9b-ee4f-4...      False         None   \n",
       "\n",
       "  watermark  \n",
       "0      None  \n",
       "1      None  "
      ]
     },
     "execution_count": 13,
     "metadata": {},
     "output_type": "execute_result"
    }
   ],
   "source": [
    "all_cards_df.head(2)"
   ]
  },
  {
   "cell_type": "code",
   "execution_count": null,
   "metadata": {},
   "outputs": [],
   "source": []
  },
  {
   "cell_type": "code",
   "execution_count": 81,
   "metadata": {},
   "outputs": [],
   "source": [
    "url = all_cards_df.sample(5).image_uris.values[4]['normal']"
   ]
  },
  {
   "cell_type": "code",
   "execution_count": 82,
   "metadata": {},
   "outputs": [],
   "source": [
    "from PIL import Image\n",
    "import requests\n",
    "from io import BytesIO\n",
    "\n",
    "response = requests.get(url)\n",
    "img = Image.open(BytesIO(response.content))\n",
    "img.show()"
   ]
  },
  {
   "cell_type": "code",
   "execution_count": null,
   "metadata": {},
   "outputs": [],
   "source": []
  }
 ],
 "metadata": {
  "kernelspec": {
   "display_name": "base",
   "language": "python",
   "name": "base"
  },
  "language_info": {
   "codemirror_mode": {
    "name": "ipython",
    "version": 3
   },
   "file_extension": ".py",
   "mimetype": "text/x-python",
   "name": "python",
   "nbconvert_exporter": "python",
   "pygments_lexer": "ipython3",
   "version": "3.7.3"
  }
 },
 "nbformat": 4,
 "nbformat_minor": 4
}
