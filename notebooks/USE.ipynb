{
 "cells": [
  {
   "cell_type": "code",
   "execution_count": 1,
   "metadata": {},
   "outputs": [],
   "source": [
    "import os\n",
    "import sys"
   ]
  },
  {
   "cell_type": "code",
   "execution_count": 2,
   "metadata": {},
   "outputs": [
    {
     "data": {
      "text/plain": [
       "environ{'ALLUSERSPROFILE': 'C:\\\\ProgramData',\n",
       "        'APPDATA': 'C:\\\\Users\\\\LWEST\\\\AppData\\\\Roaming',\n",
       "        'COMMONPROGRAMFILES': 'C:\\\\Program Files\\\\Common Files',\n",
       "        'COMMONPROGRAMFILES(X86)': 'C:\\\\Program Files (x86)\\\\Common Files',\n",
       "        'COMMONPROGRAMW6432': 'C:\\\\Program Files\\\\Common Files',\n",
       "        'COMPUTERNAME': 'MATM-LWEST',\n",
       "        'COMSPEC': 'C:\\\\Windows\\\\system32\\\\cmd.exe',\n",
       "        'CONDA_DEFAULT_ENV': 'mtgml',\n",
       "        'CONDA_EXE': 'C:\\\\Users\\\\LWEST\\\\Anaconda3\\\\Scripts\\\\conda.exe',\n",
       "        'CONDA_PREFIX': 'C:\\\\Users\\\\LWEST\\\\Anaconda3\\\\envs\\\\mtgml',\n",
       "        'CONDA_PROMPT_MODIFIER': '(mtgml) ',\n",
       "        'CONDA_PYTHON_EXE': 'C:\\\\Users\\\\LWEST\\\\Anaconda3\\\\python.exe',\n",
       "        'CONDA_SHLVL': '1',\n",
       "        'DOCKER_TOOLBOX_INSTALL_PATH': 'C:\\\\Program Files\\\\Docker Toolbox',\n",
       "        'FP_NO_HOST_CHECK': 'NO',\n",
       "        'HADOOP_HOME': 'C:\\\\hadoop\\\\',\n",
       "        'HOMEDRIVE': 'C:',\n",
       "        'HOMEPATH': '\\\\Users\\\\LWEST',\n",
       "        'LOCALAPPDATA': 'C:\\\\Users\\\\LWEST\\\\AppData\\\\Local',\n",
       "        'LOGONSERVER': '\\\\\\\\MATM-DC5',\n",
       "        'MOSAICLAPTOPEMAIL': 'laptoppass123',\n",
       "        'NUMBER_OF_PROCESSORS': '8',\n",
       "        'OS': 'Windows_NT',\n",
       "        'PATH': 'C:\\\\Users\\\\LWEST\\\\Anaconda3\\\\envs\\\\mtgml;C:\\\\Users\\\\LWEST\\\\Anaconda3\\\\envs\\\\mtgml\\\\Library\\\\mingw-w64\\\\bin;C:\\\\Users\\\\LWEST\\\\Anaconda3\\\\envs\\\\mtgml\\\\Library\\\\usr\\\\bin;C:\\\\Users\\\\LWEST\\\\Anaconda3\\\\envs\\\\mtgml\\\\Library\\\\bin;C:\\\\Users\\\\LWEST\\\\Anaconda3\\\\envs\\\\mtgml\\\\Scripts;C:\\\\Users\\\\LWEST\\\\Anaconda3\\\\envs\\\\mtgml\\\\bin;C:\\\\Users\\\\LWEST\\\\Anaconda3\\\\condabin;C:\\\\Program Files (x86)\\\\Common Files\\\\Oracle\\\\Java\\\\javapath;C:\\\\Program Files (x86)\\\\Microsoft SDKs\\\\Azure\\\\CLI2\\\\wbin;C:\\\\ProgramData\\\\Oracle\\\\Java\\\\javapath;C:\\\\Windows\\\\system32;C:\\\\Windows;C:\\\\Windows\\\\System32\\\\Wbem;C:\\\\Windows\\\\System32\\\\WindowsPowerShell\\\\v1.0;c:\\\\Program Files (x86)\\\\ATI Technologies\\\\ATI.ACE\\\\Core-Static;C:\\\\Program Files\\\\PuTTY;C:\\\\Program Files (x86)\\\\Microsoft SQL Server\\\\Client SDK\\\\ODBC\\\\130\\\\Tools\\\\Binn;C:\\\\Program Files (x86)\\\\Microsoft SQL Server\\\\140\\\\Tools\\\\Binn;C:\\\\Program Files (x86)\\\\Microsoft SQL Server\\\\140\\\\DTS\\\\Binn;C:\\\\Program Files (x86)\\\\Microsoft SQL Server\\\\140\\\\Tools\\\\Binn\\\\ManagementStudio;C:\\\\Program Files\\\\MiKTeX 2.9\\\\miktex\\\\bin\\\\x64;C:\\\\Program Files\\\\Git\\\\cmd;C:\\\\Program Files\\\\R\\\\R-3.4.1\\\\bin;C:\\\\Program Files\\\\R\\\\R-3.4.1;C:\\\\Program Files (x86)\\\\Pandoc;C:\\\\Users\\\\LWEST\\\\AppData\\\\Local\\\\Continuum\\\\Anaconda3\\\\Scripts;C:\\\\Users\\\\LWEST\\\\AppData\\\\Local\\\\Continuum\\\\Anaconda3;C:\\\\Users\\\\LWEST;C:\\\\Users\\\\LWEST\\\\SideProjects\\\\Agile_Data_Code_2;C:\\\\HashiCorp\\\\Vagrant\\\\bin;C:\\\\Program Files (x86)\\\\AWS Tools\\\\PowerShell\\\\AWSPowerShell;C:\\\\Program Files (x86)\\\\Gow\\\\bin;C:\\\\Program Files\\\\Intel\\\\WiFi\\\\bin;C:\\\\Program Files\\\\Common Files\\\\Intel\\\\WirelessCommon;C:\\\\Program Files\\\\OpenSSL-Win64\\\\bin;C:\\\\Program Files\\\\nodejs;C:\\\\Program Files (x86)\\\\Intel\\\\UCRT;C:\\\\Program Files\\\\Intel\\\\UCRT;C:\\\\Program Files (x86)\\\\Intel\\\\Intel(R) Management Engine Components\\\\DAL;C:\\\\Program Files\\\\Intel\\\\Intel(R) Management Engine Components\\\\DAL;C:\\\\Program Files\\\\dotnet;C:\\\\Program Files\\\\Docker Toolbox;C:\\\\Program Files (x86)\\\\Gow;C:\\\\Program Files\\\\Intel\\\\WiFi\\\\bin;C:\\\\Program Files\\\\Common Files\\\\Intel\\\\WirelessCommon;C:\\\\Users\\\\LWEST\\\\AppData\\\\Local\\\\atom\\\\bin;C:\\\\Users\\\\LWEST\\\\AppData\\\\Local\\\\Google\\\\Cloud SDK\\\\google-cloud-sdk\\\\bin;C:\\\\Program Files\\\\OpenSSL-Win64\\\\bin;C:\\\\Program Files\\\\heroku\\\\bin;C:\\\\Program Files (x86)\\\\Gow\\\\bin;C:\\\\Users\\\\LWEST\\\\AppData\\\\Roaming\\\\npm;C:\\\\Users\\\\LWEST\\\\.dotnet\\\\tools;C:\\\\Users\\\\LWEST\\\\Anaconda3;C:\\\\Users\\\\LWEST\\\\Anaconda3\\\\Scripts',\n",
       "        'PATHEXT': '.COM;.EXE;.BAT;.CMD;.VBS;.VBE;.JS;.JSE;.WSF;.WSH;.MSC',\n",
       "        'PIP': 'C:\\\\Python36\\\\Scripts',\n",
       "        'PROCESSOR_ARCHITECTURE': 'AMD64',\n",
       "        'PROCESSOR_IDENTIFIER': 'Intel64 Family 6 Model 94 Stepping 3, GenuineIntel',\n",
       "        'PROCESSOR_LEVEL': '6',\n",
       "        'PROCESSOR_REVISION': '5e03',\n",
       "        'PROGRAMDATA': 'C:\\\\ProgramData',\n",
       "        'PROGRAMFILES': 'C:\\\\Program Files',\n",
       "        'PROGRAMFILES(X86)': 'C:\\\\Program Files (x86)',\n",
       "        'PROGRAMW6432': 'C:\\\\Program Files',\n",
       "        'PROMPT': '(mtgml) $P$G',\n",
       "        'PSMODULEPATH': ';C:\\\\Users\\\\LWEST\\\\AppData\\\\Local\\\\Google\\\\Cloud SDK\\\\google-cloud-sdk\\\\platform\\\\PowerShell',\n",
       "        'PUBLIC': 'C:\\\\Users\\\\Public',\n",
       "        'PYTHON': 'C:\\\\Python36',\n",
       "        'QT_DEVICE_PIXEL_RATIO': 'auto',\n",
       "        'REACT_APP_USERNAME': 'lwest',\n",
       "        'RSCRIPT': 'C:\\\\Program Files\\\\R\\\\R-3.4.1\\\\bin\\\\Rscript.exe',\n",
       "        'SESSIONNAME': 'Console',\n",
       "        'SYSTEMDRIVE': 'C:',\n",
       "        'SYSTEMROOT': 'C:\\\\Windows',\n",
       "        'TEMP': 'C:\\\\Users\\\\LWEST\\\\AppData\\\\Local\\\\Temp',\n",
       "        'TMP': 'C:\\\\Users\\\\LWEST\\\\AppData\\\\Local\\\\Temp',\n",
       "        'UOIPME_REG_PATH': 'C:\\\\Program Files\\\\Intel Corporation\\\\USB over IP',\n",
       "        'USERDNSDOMAIN': 'MOSAICINT.LOCAL',\n",
       "        'USERDOMAIN': 'MOSAICINT',\n",
       "        'USERDOMAIN_ROAMINGPROFILE': 'MOSAICINT',\n",
       "        'USERNAME': 'lwest',\n",
       "        'USERPROFILE': 'C:\\\\Users\\\\LWEST',\n",
       "        'VBOX_MSI_INSTALL_PATH': 'C:\\\\Program Files\\\\Oracle\\\\VirtualBox\\\\',\n",
       "        'WINDIR': 'C:\\\\Windows',\n",
       "        'KERNEL_LAUNCH_TIMEOUT': '40',\n",
       "        'JPY_INTERRUPT_EVENT': '2368',\n",
       "        'IPY_INTERRUPT_EVENT': '2368',\n",
       "        'JPY_PARENT_PID': '2336',\n",
       "        'TERM': 'xterm-color',\n",
       "        'CLICOLOR': '1',\n",
       "        'PAGER': 'cat',\n",
       "        'GIT_PAGER': 'cat',\n",
       "        'MPLBACKEND': 'module://ipykernel.pylab.backend_inline'}"
      ]
     },
     "execution_count": 2,
     "metadata": {},
     "output_type": "execute_result"
    }
   ],
   "source": [
    "os.environ"
   ]
  },
  {
   "cell_type": "code",
   "execution_count": 7,
   "metadata": {},
   "outputs": [],
   "source": [
    "import platform"
   ]
  },
  {
   "cell_type": "code",
   "execution_count": 8,
   "metadata": {},
   "outputs": [
    {
     "data": {
      "text/plain": [
       "'Windows-8.1-6.3.9600-SP0'"
      ]
     },
     "execution_count": 8,
     "metadata": {},
     "output_type": "execute_result"
    }
   ],
   "source": [
    "platform.platform()"
   ]
  },
  {
   "cell_type": "code",
   "execution_count": null,
   "metadata": {},
   "outputs": [],
   "source": []
  },
  {
   "cell_type": "code",
   "execution_count": 10,
   "metadata": {},
   "outputs": [
    {
     "data": {
      "text/plain": [
       "'C:\\\\Program Files\\\\Java\\\\jdk1.8.0_251'"
      ]
     },
     "execution_count": 10,
     "metadata": {},
     "output_type": "execute_result"
    }
   ],
   "source": [
    "JAVA_HOME = 'C:\\Program Files\\Java\\jdk1.8.0_251'\n",
    "JAVA_HOME"
   ]
  },
  {
   "cell_type": "code",
   "execution_count": 11,
   "metadata": {},
   "outputs": [],
   "source": [
    "os.environ['JAVA_HOME'] = JAVA_HOME"
   ]
  },
  {
   "cell_type": "code",
   "execution_count": 12,
   "metadata": {},
   "outputs": [
    {
     "name": "stdout",
     "output_type": "stream",
     "text": [
      "C:\\Program Files\\Java\\jdk1.8.0_251\n"
     ]
    }
   ],
   "source": [
    "!echo %JAVA_HOME%"
   ]
  },
  {
   "cell_type": "code",
   "execution_count": 13,
   "metadata": {},
   "outputs": [],
   "source": [
    "os.environ['HADOOP_HOME'] = 'C:\\\\hadoop\\\\'"
   ]
  },
  {
   "cell_type": "code",
   "execution_count": 14,
   "metadata": {},
   "outputs": [
    {
     "name": "stdout",
     "output_type": "stream",
     "text": [
      "C:\\hadoop\\\n"
     ]
    }
   ],
   "source": [
    "!echo %HADOOP_HOME%"
   ]
  },
  {
   "cell_type": "code",
   "execution_count": null,
   "metadata": {},
   "outputs": [],
   "source": []
  },
  {
   "cell_type": "code",
   "execution_count": 1,
   "metadata": {},
   "outputs": [],
   "source": [
    "import os\n",
    "import pyspark\n",
    "from pyspark.sql import SparkSession"
   ]
  },
  {
   "cell_type": "code",
   "execution_count": 2,
   "metadata": {},
   "outputs": [],
   "source": [
    "spark = SparkSession.builder \\\n",
    "    .appName(\"Spark NLP\")\\\n",
    "    .config(\"spark.driver.memory\",\"8G\")\\\n",
    "    .config(\"spark.driver.maxResultSize\", \"2G\") \\\n",
    "    .config(\"spark.jars.packages\", \"com.johnsnowlabs.nlp:spark-nlp_2.11:2.4.5\")\\\n",
    "    .config(\"spark.kryoserializer.buffer.max\", \"1000M\")\\\n",
    "    .getOrCreate()"
   ]
  },
  {
   "cell_type": "code",
   "execution_count": 3,
   "metadata": {},
   "outputs": [],
   "source": [
    "from sparknlp.base import *\n",
    "from sparknlp.annotator import *\n",
    "from pyspark.ml import Pipeline"
   ]
  },
  {
   "cell_type": "code",
   "execution_count": 11,
   "metadata": {},
   "outputs": [],
   "source": [
    "#spark = SparkSession.builder\\\n",
    "#    .config(\"spark.sql.execution.arrow.enabled\", \"true\")\\\n",
    "#    .config(\"spark.jars\", \"C:\\\\Users\\\\LWEST\\\\Downloads\\\\spark-nlp-assembly-2.4.5.jar\")\\\n",
    "#    .getOrCreate()"
   ]
  },
  {
   "cell_type": "code",
   "execution_count": 29,
   "metadata": {},
   "outputs": [],
   "source": []
  },
  {
   "cell_type": "code",
   "execution_count": 4,
   "metadata": {},
   "outputs": [
    {
     "data": {
      "text/html": [
       "\n",
       "            <div>\n",
       "                <p><b>SparkSession - in-memory</b></p>\n",
       "                \n",
       "        <div>\n",
       "            <p><b>SparkContext</b></p>\n",
       "\n",
       "            <p><a href=\"http://matm-lwest.mosaicint.local:4040\">Spark UI</a></p>\n",
       "\n",
       "            <dl>\n",
       "              <dt>Version</dt>\n",
       "                <dd><code>v2.4.4</code></dd>\n",
       "              <dt>Master</dt>\n",
       "                <dd><code>local[*]</code></dd>\n",
       "              <dt>AppName</dt>\n",
       "                <dd><code>Spark NLP</code></dd>\n",
       "            </dl>\n",
       "        </div>\n",
       "        \n",
       "            </div>\n",
       "        "
      ],
      "text/plain": [
       "<pyspark.sql.session.SparkSession at 0x3f3b91b550>"
      ]
     },
     "execution_count": 4,
     "metadata": {},
     "output_type": "execute_result"
    }
   ],
   "source": [
    "spark"
   ]
  },
  {
   "cell_type": "code",
   "execution_count": 5,
   "metadata": {},
   "outputs": [],
   "source": [
    "import pandas as pd\n",
    "import pyarrow.parquet as pq\n",
    "import s3fs\n",
    "s3 = s3fs.S3FileSystem()"
   ]
  },
  {
   "cell_type": "code",
   "execution_count": 6,
   "metadata": {},
   "outputs": [],
   "source": [
    "ml_df = pq.ParquetDataset('s3://decks-ml/2020-16', filesystem=s3).read_pandas().to_pandas()\\\n",
    "    .assign(mana_curve=lambda df: df.mana_curve.apply(list))\\\n",
    "    .assign(toughness=lambda df: df.toughness.apply(list))\\\n",
    "    .assign(power=lambda df: df.power.apply(list))\\\n",
    "    .drop(columns=['mana_curve','toughness','power'])"
   ]
  },
  {
   "cell_type": "code",
   "execution_count": 7,
   "metadata": {},
   "outputs": [
    {
     "data": {
      "text/html": [
       "<div>\n",
       "<style scoped>\n",
       "    .dataframe tbody tr th:only-of-type {\n",
       "        vertical-align: middle;\n",
       "    }\n",
       "\n",
       "    .dataframe tbody tr th {\n",
       "        vertical-align: top;\n",
       "    }\n",
       "\n",
       "    .dataframe thead th {\n",
       "        text-align: right;\n",
       "    }\n",
       "</style>\n",
       "<table border=\"1\" class=\"dataframe\">\n",
       "  <thead>\n",
       "    <tr style=\"text-align: right;\">\n",
       "      <th></th>\n",
       "      <th>type</th>\n",
       "      <th>deck_id</th>\n",
       "      <th>oracle_text</th>\n",
       "      <th>name</th>\n",
       "      <th>colors</th>\n",
       "    </tr>\n",
       "  </thead>\n",
       "  <tbody>\n",
       "    <tr>\n",
       "      <th>0</th>\n",
       "      <td>Creature — Jellyfish Hydra Beast||Legendary Cr...</td>\n",
       "      <td>5a234658-8261-11ea-99fe-ae4bb5492654</td>\n",
       "      <td>When you cast this spell, you gain half X life...</td>\n",
       "      <td>Temur Reclamation</td>\n",
       "      <td>UG||UG||U||RUG||R||UG||U||RUG||R||G||U||R||RG|...</td>\n",
       "    </tr>\n",
       "    <tr>\n",
       "      <th>1</th>\n",
       "      <td>Legendary Planeswalker — Garruk||Enchantment||...</td>\n",
       "      <td>8bb68c50-6bed-11ea-8368-fe6f0d649b94</td>\n",
       "      <td>0: Create two 2/2 black and green Wolf creatur...</td>\n",
       "      <td>Happy Growth 4</td>\n",
       "      <td>BG||RW||W||W||W||W||W||BG||U||RBUGW||G||empty|...</td>\n",
       "    </tr>\n",
       "    <tr>\n",
       "      <th>2</th>\n",
       "      <td>Creature — Human Shaman||Legendary Creature — ...</td>\n",
       "      <td>a8f764d6-8260-11ea-99fe-ae4bb5492654</td>\n",
       "      <td>Spectacle {2}{B}{R} (You may cast this spell f...</td>\n",
       "      <td>Rakdos Sacrifice</td>\n",
       "      <td>BR||BR||B||B||B||BR||B||empty||B||R||B||B||emp...</td>\n",
       "    </tr>\n",
       "  </tbody>\n",
       "</table>\n",
       "</div>"
      ],
      "text/plain": [
       "                                                type  \\\n",
       "0  Creature — Jellyfish Hydra Beast||Legendary Cr...   \n",
       "1  Legendary Planeswalker — Garruk||Enchantment||...   \n",
       "2  Creature — Human Shaman||Legendary Creature — ...   \n",
       "\n",
       "                                deck_id  \\\n",
       "0  5a234658-8261-11ea-99fe-ae4bb5492654   \n",
       "1  8bb68c50-6bed-11ea-8368-fe6f0d649b94   \n",
       "2  a8f764d6-8260-11ea-99fe-ae4bb5492654   \n",
       "\n",
       "                                         oracle_text               name  \\\n",
       "0  When you cast this spell, you gain half X life...  Temur Reclamation   \n",
       "1  0: Create two 2/2 black and green Wolf creatur...     Happy Growth 4   \n",
       "2  Spectacle {2}{B}{R} (You may cast this spell f...   Rakdos Sacrifice   \n",
       "\n",
       "                                              colors  \n",
       "0  UG||UG||U||RUG||R||UG||U||RUG||R||G||U||R||RG|...  \n",
       "1  BG||RW||W||W||W||W||W||BG||U||RBUGW||G||empty|...  \n",
       "2  BR||BR||B||B||B||BR||B||empty||B||R||B||B||emp...  "
      ]
     },
     "execution_count": 7,
     "metadata": {},
     "output_type": "execute_result"
    }
   ],
   "source": [
    "ml_df.head()"
   ]
  },
  {
   "cell_type": "code",
   "execution_count": null,
   "metadata": {},
   "outputs": [],
   "source": []
  },
  {
   "cell_type": "code",
   "execution_count": 8,
   "metadata": {},
   "outputs": [],
   "source": [
    "decks_df = spark.createDataFrame(ml_df)"
   ]
  },
  {
   "cell_type": "code",
   "execution_count": 10,
   "metadata": {},
   "outputs": [
    {
     "data": {
      "text/plain": [
       "3"
      ]
     },
     "execution_count": 10,
     "metadata": {},
     "output_type": "execute_result"
    }
   ],
   "source": [
    "decks_df.count()"
   ]
  },
  {
   "cell_type": "code",
   "execution_count": 9,
   "metadata": {},
   "outputs": [
    {
     "name": "stdout",
     "output_type": "stream",
     "text": [
      "+--------------------+--------------------+--------------------+-----------------+--------------------+\n",
      "|                type|             deck_id|         oracle_text|             name|              colors|\n",
      "+--------------------+--------------------+--------------------+-----------------+--------------------+\n",
      "|Creature — Jellyf...|5a234658-8261-11e...|When you cast thi...|Temur Reclamation|UG||UG||U||RUG||R...|\n",
      "+--------------------+--------------------+--------------------+-----------------+--------------------+\n",
      "only showing top 1 row\n",
      "\n"
     ]
    }
   ],
   "source": [
    "decks_df.show(1)"
   ]
  },
  {
   "cell_type": "code",
   "execution_count": null,
   "metadata": {},
   "outputs": [],
   "source": []
  },
  {
   "cell_type": "code",
   "execution_count": 11,
   "metadata": {},
   "outputs": [],
   "source": [
    "document = DocumentAssembler()\\\n",
    "    .setInputCol(\"oracle_text\")\\\n",
    "    .setOutputCol(\"document\")\n",
    "    \n",
    "use = UniversalSentenceEncoder.load('tfhub_use_en_2.4.0_2.4_1587136330099')\\\n",
    " .setInputCols([\"document\"])\\\n",
    " .setOutputCol(\"deck_embeddings\")\n",
    "\n",
    "use_clf_pipeline = Pipeline(\n",
    "    stages = [\n",
    "        document,\n",
    "        use\n",
    "    ])"
   ]
  },
  {
   "cell_type": "code",
   "execution_count": 12,
   "metadata": {},
   "outputs": [],
   "source": [
    "use_model = use_clf_pipeline.fit(decks_df)"
   ]
  },
  {
   "cell_type": "code",
   "execution_count": 14,
   "metadata": {},
   "outputs": [],
   "source": [
    "use_encoded = use_model.transform(decks_df)"
   ]
  },
  {
   "cell_type": "code",
   "execution_count": 20,
   "metadata": {},
   "outputs": [
    {
     "name": "stdout",
     "output_type": "stream",
     "text": [
      "+--------------------------------------------------------------------------------+--------------------------------------------------------------------------------+\n",
      "|                                                                     oracle_text|                                                                      embeddings|\n",
      "+--------------------------------------------------------------------------------+--------------------------------------------------------------------------------+\n",
      "|When you cast this spell, you gain half X life and draw half X cards. Round d...|[[-0.046553537, -0.05177158, 0.038912848, 0.028068611, -0.017059682, 0.051689...|\n",
      "|0: Create two 2/2 black and green Wolf creature tokens with \"When this creatu...|[[-0.05019106, -0.052751593, 0.020774877, 0.03970864, -0.01194905, 0.05237493...|\n",
      "|Spectacle {2}{B}{R} (You may cast this spell for its spectacle cost rather th...|[[-0.048691895, -0.051655922, 0.024750696, 0.04697689, -0.045896873, 0.051550...|\n",
      "+--------------------------------------------------------------------------------+--------------------------------------------------------------------------------+\n",
      "\n"
     ]
    }
   ],
   "source": [
    "use_encoded.select('oracle_text', 'deck_embeddings.embeddings').show(truncate=80)"
   ]
  },
  {
   "cell_type": "code",
   "execution_count": 22,
   "metadata": {},
   "outputs": [],
   "source": [
    "embeds_df = use_encoded.select('name', 'deck_embeddings.embeddings')\\\n",
    "    .toPandas()"
   ]
  },
  {
   "cell_type": "code",
   "execution_count": 53,
   "metadata": {},
   "outputs": [],
   "source": [
    "import numpy as np\n",
    "from pyspark.sql.functions import udf\n",
    "from pyspark.sql.types import StringType"
   ]
  },
  {
   "cell_type": "code",
   "execution_count": null,
   "metadata": {},
   "outputs": [],
   "source": [
    "chop_f = udf(lambda x: np.asarray(x), StringType())"
   ]
  },
  {
   "cell_type": "code",
   "execution_count": 54,
   "metadata": {},
   "outputs": [],
   "source": [
    "X = np.array([[0, 0, 0], [0, 1, 1], [1, 0, 1], [1, 1, 1]])"
   ]
  },
  {
   "cell_type": "code",
   "execution_count": 55,
   "metadata": {},
   "outputs": [
    {
     "data": {
      "text/plain": [
       "(4, 3)"
      ]
     },
     "execution_count": 55,
     "metadata": {},
     "output_type": "execute_result"
    }
   ],
   "source": [
    "X.shape"
   ]
  },
  {
   "cell_type": "code",
   "execution_count": 131,
   "metadata": {},
   "outputs": [],
   "source": [
    "deck_embeds = np.stack(embeds_df.embeddings.apply(lambda x: np.asarray(x)[0]))"
   ]
  },
  {
   "cell_type": "code",
   "execution_count": 146,
   "metadata": {},
   "outputs": [
    {
     "data": {
      "text/plain": [
       "array([[0.9999999 , 0.93968577, 0.95117258],\n",
       "       [0.93968577, 1.        , 0.94866042],\n",
       "       [0.95117258, 0.94866042, 0.99999994]])"
      ]
     },
     "execution_count": 146,
     "metadata": {},
     "output_type": "execute_result"
    }
   ],
   "source": [
    "np.inner(deck_embeds, deck_embeds)"
   ]
  },
  {
   "cell_type": "code",
   "execution_count": 21,
   "metadata": {},
   "outputs": [],
   "source": [
    "from sklearn.manifold import TSNE"
   ]
  },
  {
   "cell_type": "code",
   "execution_count": 132,
   "metadata": {},
   "outputs": [
    {
     "data": {
      "text/plain": [
       "(3, 2)"
      ]
     },
     "execution_count": 132,
     "metadata": {},
     "output_type": "execute_result"
    }
   ],
   "source": [
    "X = TSNE(n_components=2).fit_transform(deck_embeds)\n",
    "X.shape     "
   ]
  },
  {
   "cell_type": "code",
   "execution_count": 143,
   "metadata": {},
   "outputs": [
    {
     "data": {
      "text/plain": [
       "<matplotlib.axes._subplots.AxesSubplot at 0x3f53a1dac8>"
      ]
     },
     "execution_count": 143,
     "metadata": {},
     "output_type": "execute_result"
    },
    {
     "data": {
      "image/png": "[encoded data removed]",
      "text/plain": [
       "<Figure size 432x288 with 1 Axes>"
      ]
     },
     "metadata": {
      "needs_background": "light"
     },
     "output_type": "display_data"
    }
   ],
   "source": [
    "pd.DataFrame(X).plot.scatter(x=0, y=1)"
   ]
  },
  {
   "cell_type": "code",
   "execution_count": null,
   "metadata": {},
   "outputs": [],
   "source": []
  }
 ],
 "metadata": {
  "kernelspec": {
   "display_name": "Python 3",
   "language": "python",
   "name": "python3"
  },
  "language_info": {
   "codemirror_mode": {
    "name": "ipython",
    "version": 3
   },
   "file_extension": ".py",
   "mimetype": "text/x-python",
   "name": "python",
   "nbconvert_exporter": "python",
   "pygments_lexer": "ipython3",
   "version": "3.6.10"
  }
 },
 "nbformat": 4,
 "nbformat_minor": 4
}
