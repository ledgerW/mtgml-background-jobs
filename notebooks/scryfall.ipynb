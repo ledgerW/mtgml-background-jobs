{
 "cells": [
  {
   "cell_type": "code",
   "execution_count": 21,
   "metadata": {},
   "outputs": [],
   "source": [
    "import pandas as pd\n",
    "import numpy as np\n",
    "import os\n",
    "import requests\n",
    "from time import sleep\n",
    "\n",
    "pd.set_option('display.max_columns', None)"
   ]
  },
  {
   "cell_type": "markdown",
   "metadata": {},
   "source": [
    "# Scryfall API"
   ]
  },
  {
   "cell_type": "code",
   "execution_count": 92,
   "metadata": {},
   "outputs": [
    {
     "data": {
      "text/plain": [
       "[(0, 20),\n",
       " (20, 40),\n",
       " (40, 60),\n",
       " (60, 80),\n",
       " (80, 100),\n",
       " (100, 120),\n",
       " (120, 140),\n",
       " (140, 160),\n",
       " (160, 180)]"
      ]
     },
     "execution_count": 92,
     "metadata": {},
     "output_type": "execute_result"
    }
   ],
   "source": [
    "CARDS_PER_PAGE = 175\n",
    "PAGES_PER_WORKER = 100\n",
    "BATCH_LIMIT = 20\n",
    "\n",
    "dynamo_batches = [(first, first+BATCH_LIMIT) for first in list(range(0, CARDS_PER_PAGE, BATCH_LIMIT))]\n",
    "dynamo_batches"
   ]
  },
  {
   "cell_type": "code",
   "execution_count": null,
   "metadata": {},
   "outputs": [],
   "source": []
  },
  {
   "cell_type": "code",
   "execution_count": 22,
   "metadata": {},
   "outputs": [],
   "source": [
    "import json"
   ]
  },
  {
   "cell_type": "code",
   "execution_count": 2,
   "metadata": {},
   "outputs": [],
   "source": [
    "pages = (1, 101)"
   ]
  },
  {
   "cell_type": "code",
   "execution_count": 5,
   "metadata": {},
   "outputs": [
    {
     "data": {
      "text/plain": [
       "'{\"first\": 1, \"last\": 101}'"
      ]
     },
     "execution_count": 5,
     "metadata": {},
     "output_type": "execute_result"
    }
   ],
   "source": [
    "payload = json.dumps({\"first\": pages[0], \"last\": pages[1]})\n",
    "payload"
   ]
  },
  {
   "cell_type": "code",
   "execution_count": 7,
   "metadata": {},
   "outputs": [
    {
     "data": {
      "text/plain": [
       "{'first': 1, 'last': 101}"
      ]
     },
     "execution_count": 7,
     "metadata": {},
     "output_type": "execute_result"
    }
   ],
   "source": [
    "event = json.loads(payload)\n",
    "event"
   ]
  },
  {
   "cell_type": "code",
   "execution_count": null,
   "metadata": {},
   "outputs": [],
   "source": []
  },
  {
   "cell_type": "code",
   "execution_count": 53,
   "metadata": {},
   "outputs": [],
   "source": [
    "leonin = 'https://api.scryfall.com/cards/named?fuzzy=leonin+warleader'"
   ]
  },
  {
   "cell_type": "code",
   "execution_count": 78,
   "metadata": {},
   "outputs": [],
   "source": [
    "cards_url = 'https://api.scryfall.com/cards?page=11'"
   ]
  },
  {
   "cell_type": "code",
   "execution_count": 79,
   "metadata": {},
   "outputs": [],
   "source": [
    "res = requests.get(cards_url)"
   ]
  },
  {
   "cell_type": "code",
   "execution_count": 44,
   "metadata": {},
   "outputs": [],
   "source": [
    "one = res.json()['data'][0]"
   ]
  },
  {
   "cell_type": "code",
   "execution_count": 5,
   "metadata": {},
   "outputs": [
    {
     "data": {
      "text/plain": [
       "175"
      ]
     },
     "execution_count": 5,
     "metadata": {},
     "output_type": "execute_result"
    }
   ],
   "source": [
    "len(res.json()['data'])"
   ]
  },
  {
   "cell_type": "code",
   "execution_count": 9,
   "metadata": {},
   "outputs": [],
   "source": [
    "BATCH_LIMIT = 25\n",
    "CARDS_PER_PAGE = 175"
   ]
  },
  {
   "cell_type": "code",
   "execution_count": 11,
   "metadata": {},
   "outputs": [
    {
     "data": {
      "text/plain": [
       "[(0, 25), (25, 50), (50, 75), (75, 100), (100, 125), (125, 150), (150, 175)]"
      ]
     },
     "execution_count": 11,
     "metadata": {},
     "output_type": "execute_result"
    }
   ],
   "source": [
    "dynamo_batch = [(first, first+BATCH_LIMIT) for first in list(range(0, CARDS_PER_PAGE, BATCH_LIMIT))]\n",
    "dynamo_batch"
   ]
  },
  {
   "cell_type": "code",
   "execution_count": 21,
   "metadata": {},
   "outputs": [
    {
     "data": {
      "text/plain": [
       "(0, 25)"
      ]
     },
     "execution_count": 21,
     "metadata": {},
     "output_type": "execute_result"
    }
   ],
   "source": [
    "batch = dynamo_batch[0]\n",
    "batch"
   ]
  },
  {
   "cell_type": "code",
   "execution_count": 34,
   "metadata": {},
   "outputs": [
    {
     "data": {
      "text/plain": [
       "[]"
      ]
     },
     "execution_count": 34,
     "metadata": {},
     "output_type": "execute_result"
    }
   ],
   "source": [
    "list(range(5, 5))"
   ]
  },
  {
   "cell_type": "raw",
   "metadata": {},
   "source": []
  },
  {
   "cell_type": "code",
   "execution_count": 23,
   "metadata": {},
   "outputs": [],
   "source": [
    "table = 'global-cards-table'"
   ]
  },
  {
   "cell_type": "code",
   "execution_count": 142,
   "metadata": {},
   "outputs": [],
   "source": [
    "cards = res.json()['data'][batch[0]:batch[1]]"
   ]
  },
  {
   "cell_type": "code",
   "execution_count": 140,
   "metadata": {},
   "outputs": [
    {
     "data": {
      "text/plain": [
       "0"
      ]
     },
     "execution_count": 140,
     "metadata": {},
     "output_type": "execute_result"
    }
   ],
   "source": [
    "len(cards[0]['mana_cost'])"
   ]
  },
  {
   "cell_type": "code",
   "execution_count": 143,
   "metadata": {},
   "outputs": [],
   "source": [
    "for idx, card in enumerate(cards):\n",
    "    for key, val in card.items():\n",
    "        cards[idx][key] = batch_format(val)\n",
    "    cards[idx]['cardId'] = cards[idx]['id']"
   ]
  },
  {
   "cell_type": "code",
   "execution_count": 88,
   "metadata": {},
   "outputs": [],
   "source": [
    "def save_scryfall_page(table, page):\n",
    "    dynamo_batches = [(first, first+BATCH_LIMIT) for first in list(range(0, CARDS_PER_PAGE, BATCH_LIMIT))]\n",
    "\n",
    "    res = requests.get(CARDS_URL.format(page))\n",
    "    for batch in dynamo_batch:\n",
    "        cards = res.json()['data'][batch[0]:batch[1]]\n",
    "        # Save to Dynamo\n",
    "        RequestItems = {\n",
    "            table: [\n",
    "                {\n",
    "                    'PutRequest': {\n",
    "                        'Item': card\n",
    "                    }\n",
    "                } for card in cards\n",
    "            ]\n",
    "        }\n",
    "        return RequestItems\n",
    "        #_ = dynamodb_lib.call(table, 'batch_write_item', RequestItems)"
   ]
  },
  {
   "cell_type": "code",
   "execution_count": 113,
   "metadata": {},
   "outputs": [],
   "source": [
    "items = save_scryfall_page(table, 1)"
   ]
  },
  {
   "cell_type": "code",
   "execution_count": 84,
   "metadata": {},
   "outputs": [],
   "source": [
    "def batch_format(val):\n",
    "    if type(val) is str:\n",
    "        return {\"S\": str(val)} if len(val)>0 else {\"NULL\": True}\n",
    "    if type(val) is int:\n",
    "        return {\"N\": str(val)}\n",
    "    if type(val) is float:\n",
    "        return {\"N\": str(val)}\n",
    "    if type(val) is list:\n",
    "        if len(val)>0:\n",
    "            if type(val[0]) is str:\n",
    "                return {\"SS\": val}\n",
    "            if type(val[0]) is int:\n",
    "                return {\"NS\": [str(item) for item in val]}\n",
    "            if type(val[0]) is float:\n",
    "                return {\"NS\": [str(item) for item in val]}\n",
    "            if type(val[0]) is dict:\n",
    "                return {\n",
    "                        \"M\": {\n",
    "                                str(idx): {\n",
    "                                    \"M\": {dict_key: batch_format(dict_val) for dict_key, dict_val in dict_item.items()}\n",
    "                                } for idx, dict_item in enumerate(val)\n",
    "                            }  \n",
    "                        }\n",
    "        else:\n",
    "            return {\"SS\": ['empty']}\n",
    "    if type(val) is bool:\n",
    "        return {\"BOOL\": True}\n",
    "    if val is None:\n",
    "        return {\"NULL\": True}\n",
    "    if type(val) is dict:\n",
    "        return {\"M\": {val_key: batch_format(val_val) for val_key, val_val in val.items()}}"
   ]
  },
  {
   "cell_type": "code",
   "execution_count": 88,
   "metadata": {},
   "outputs": [],
   "source": [
    "cards = res.json()['data']"
   ]
  },
  {
   "cell_type": "code",
   "execution_count": 89,
   "metadata": {},
   "outputs": [],
   "source": [
    "for key, val in cards[1].items():\n",
    "    cards[1][key] = batch_format(val)"
   ]
  },
  {
   "cell_type": "code",
   "execution_count": 90,
   "metadata": {},
   "outputs": [
    {
     "data": {
      "text/plain": [
       "{'object': {'S': 'card'},\n",
       " 'id': {'S': '940509ec-8f58-4593-a598-142a827f55b0'},\n",
       " 'oracle_id': {'S': '2b565791-1b94-4dad-a48d-be7fc2198e19'},\n",
       " 'multiverse_ids': {'SS': ['empty']},\n",
       " 'tcgplayer_id': {'N': '204039'},\n",
       " 'name': {'S': 'Jushi Apprentice // Tomoya the Revealer'},\n",
       " 'lang': {'S': 'en'},\n",
       " 'released_at': {'S': '2019-11-07'},\n",
       " 'uri': {'S': 'https://api.scryfall.com/cards/940509ec-8f58-4593-a598-142a827f55b0'},\n",
       " 'scryfall_uri': {'S': 'https://scryfall.com/card/mb1/411/jushi-apprentice-tomoya-the-revealer?utm_source=api'},\n",
       " 'layout': {'S': 'flip'},\n",
       " 'highres_image': {'BOOL': True},\n",
       " 'image_uris': {'M': {'small': {'S': 'https://img.scryfall.com/cards/small/front/9/4/940509ec-8f58-4593-a598-142a827f55b0.jpg?1573507789'},\n",
       "   'normal': {'S': 'https://img.scryfall.com/cards/normal/front/9/4/940509ec-8f58-4593-a598-142a827f55b0.jpg?1573507789'},\n",
       "   'large': {'S': 'https://img.scryfall.com/cards/large/front/9/4/940509ec-8f58-4593-a598-142a827f55b0.jpg?1573507789'},\n",
       "   'png': {'S': 'https://img.scryfall.com/cards/png/front/9/4/940509ec-8f58-4593-a598-142a827f55b0.png?1573507789'},\n",
       "   'art_crop': {'S': 'https://img.scryfall.com/cards/art_crop/front/9/4/940509ec-8f58-4593-a598-142a827f55b0.jpg?1573507789'},\n",
       "   'border_crop': {'S': 'https://img.scryfall.com/cards/border_crop/front/9/4/940509ec-8f58-4593-a598-142a827f55b0.jpg?1573507789'}}},\n",
       " 'mana_cost': {'S': '{1}{U}'},\n",
       " 'cmc': {'N': '2.0'},\n",
       " 'type_line': {'S': 'Creature — Human Wizard // Legendary Creature — Human Wizard'},\n",
       " 'power': {'S': '1'},\n",
       " 'toughness': {'S': '2'},\n",
       " 'colors': {'SS': ['U']},\n",
       " 'color_identity': {'SS': ['U']},\n",
       " 'card_faces': {'M': {'0': {'M': {'object': {'S': 'card_face'},\n",
       "     'name': {'S': 'Jushi Apprentice'},\n",
       "     'mana_cost': {'S': '{1}{U}'},\n",
       "     'type_line': {'S': 'Creature — Human Wizard'},\n",
       "     'oracle_text': {'S': '{2}{U}, {T}: Draw a card. If you have nine or more cards in hand, flip Jushi Apprentice.'},\n",
       "     'power': {'S': '1'},\n",
       "     'toughness': {'S': '2'},\n",
       "     'artist': {'S': 'Glen Angus'},\n",
       "     'artist_id': {'S': '7be3b9e4-de9b-4a3d-884e-e67b9681d409'},\n",
       "     'illustration_id': {'S': '42548f86-c5d6-4056-b5d4-9087d24f0549'}}},\n",
       "   '1': {'M': {'object': {'S': 'card_face'},\n",
       "     'name': {'S': 'Tomoya the Revealer'},\n",
       "     'mana_cost': {'NULL': True},\n",
       "     'type_line': {'S': 'Legendary Creature — Human Wizard'},\n",
       "     'oracle_text': {'S': '{3}{U}{U}, {T}: Target player draws X cards, where X is the number of cards in your hand.'},\n",
       "     'power': {'S': '2'},\n",
       "     'toughness': {'S': '3'},\n",
       "     'artist': {'S': 'Glen Angus'},\n",
       "     'artist_id': {'S': '7be3b9e4-de9b-4a3d-884e-e67b9681d409'}}}}},\n",
       " 'legalities': {'M': {'standard': {'S': 'not_legal'},\n",
       "   'future': {'S': 'not_legal'},\n",
       "   'historic': {'S': 'not_legal'},\n",
       "   'pioneer': {'S': 'not_legal'},\n",
       "   'modern': {'S': 'legal'},\n",
       "   'legacy': {'S': 'legal'},\n",
       "   'pauper': {'S': 'not_legal'},\n",
       "   'vintage': {'S': 'legal'},\n",
       "   'penny': {'S': 'legal'},\n",
       "   'commander': {'S': 'legal'},\n",
       "   'brawl': {'S': 'not_legal'},\n",
       "   'duel': {'S': 'legal'},\n",
       "   'oldschool': {'S': 'not_legal'}}},\n",
       " 'games': {'SS': ['paper']},\n",
       " 'reserved': {'BOOL': True},\n",
       " 'foil': {'BOOL': True},\n",
       " 'nonfoil': {'BOOL': True},\n",
       " 'oversized': {'BOOL': True},\n",
       " 'promo': {'BOOL': True},\n",
       " 'reprint': {'BOOL': True},\n",
       " 'variation': {'BOOL': True},\n",
       " 'set': {'S': 'mb1'},\n",
       " 'set_name': {'S': 'Mystery Booster'},\n",
       " 'set_type': {'S': 'funny'},\n",
       " 'set_uri': {'S': 'https://api.scryfall.com/sets/d13bfc70-6137-4179-aa96-da30fd84de29'},\n",
       " 'set_search_uri': {'S': 'https://api.scryfall.com/cards/search?order=set&q=e%3Amb1&unique=prints'},\n",
       " 'scryfall_set_uri': {'S': 'https://scryfall.com/sets/mb1?utm_source=api'},\n",
       " 'rulings_uri': {'S': 'https://api.scryfall.com/cards/940509ec-8f58-4593-a598-142a827f55b0/rulings'},\n",
       " 'prints_search_uri': {'S': 'https://api.scryfall.com/cards/search?order=released&q=oracleid%3A2b565791-1b94-4dad-a48d-be7fc2198e19&unique=prints'},\n",
       " 'collector_number': {'S': '411'},\n",
       " 'digital': {'BOOL': True},\n",
       " 'rarity': {'S': 'rare'},\n",
       " 'card_back_id': {'S': '0aeebaf5-8c7d-4636-9e82-8c27447861f7'},\n",
       " 'artist': {'S': 'Glen Angus'},\n",
       " 'artist_ids': {'SS': ['7be3b9e4-de9b-4a3d-884e-e67b9681d409']},\n",
       " 'illustration_id': {'S': '42548f86-c5d6-4056-b5d4-9087d24f0549'},\n",
       " 'border_color': {'S': 'black'},\n",
       " 'frame': {'S': '2003'},\n",
       " 'full_art': {'BOOL': True},\n",
       " 'textless': {'BOOL': True},\n",
       " 'booster': {'BOOL': True},\n",
       " 'story_spotlight': {'BOOL': True},\n",
       " 'edhrec_rank': {'N': '7001'},\n",
       " 'prices': {'M': {'usd': {'NULL': True},\n",
       "   'usd_foil': {'NULL': True},\n",
       "   'eur': {'NULL': True},\n",
       "   'tix': {'NULL': True}}},\n",
       " 'related_uris': {'M': {'tcgplayer_decks': {'S': 'https://decks.tcgplayer.com/magic/deck/search?contains=Jushi+Apprentice&page=1&partner=Scryfall&utm_campaign=affiliate&utm_medium=scryfall&utm_source=scryfall'},\n",
       "   'edhrec': {'S': 'https://edhrec.com/route/?cc=Jushi+Apprentice'},\n",
       "   'mtgtop8': {'S': 'https://mtgtop8.com/search?MD_check=1&SB_check=1&cards=Jushi+Apprentice'}}},\n",
       " 'purchase_uris': {'M': {'tcgplayer': {'S': 'https://shop.tcgplayer.com/product/productsearch?id=204039&partner=Scryfall&utm_campaign=affiliate&utm_medium=scryfall&utm_source=scryfall'},\n",
       "   'cardmarket': {'S': 'https://www.cardmarket.com/en/Magic/Products/Search?referrer=scryfall&searchString=Jushi+Apprentice&utm_campaign=card_prices&utm_medium=text&utm_source=scryfall'},\n",
       "   'cardhoarder': {'S': 'https://www.cardhoarder.com/cards?affiliate_id=scryfall&data%5Bsearch%5D=Jushi+Apprentice&ref=card-profile&utm_campaign=affiliate&utm_medium=card&utm_source=scryfall'}}}}"
      ]
     },
     "execution_count": 90,
     "metadata": {},
     "output_type": "execute_result"
    }
   ],
   "source": [
    "cards[1]"
   ]
  },
  {
   "cell_type": "code",
   "execution_count": null,
   "metadata": {},
   "outputs": [],
   "source": []
  },
  {
   "cell_type": "code",
   "execution_count": 49,
   "metadata": {},
   "outputs": [],
   "source": [
    "cards = res.json()['data'][0:100]\n",
    "\n",
    "for idx, card in enumerate(cards):\n",
    "    for key, val in card.items():\n",
    "        cards[idx][key] = batch_format(val)\n",
    "    cards[idx]['cardId'] = cards[idx]['id']"
   ]
  },
  {
   "cell_type": "code",
   "execution_count": null,
   "metadata": {},
   "outputs": [],
   "source": [
    "cards = res.json()['data'][batch[0]:batch[1]]"
   ]
  },
  {
   "cell_type": "code",
   "execution_count": 4,
   "metadata": {},
   "outputs": [
    {
     "data": {
      "text/plain": [
       "263830"
      ]
     },
     "execution_count": 4,
     "metadata": {},
     "output_type": "execute_result"
    }
   ],
   "source": [
    "res.json()['total_cards']"
   ]
  },
  {
   "cell_type": "code",
   "execution_count": 5,
   "metadata": {},
   "outputs": [],
   "source": [
    "import math"
   ]
  },
  {
   "cell_type": "code",
   "execution_count": 6,
   "metadata": {},
   "outputs": [
    {
     "data": {
      "text/plain": [
       "1508"
      ]
     },
     "execution_count": 6,
     "metadata": {},
     "output_type": "execute_result"
    }
   ],
   "source": [
    "cards_per_page = 175\n",
    "total_cards = res.json()['total_cards']\n",
    "\n",
    "total_pages = math.ceil(total_cards / cards_per_page)\n",
    "\n",
    "total_pages"
   ]
  },
  {
   "cell_type": "code",
   "execution_count": 9,
   "metadata": {},
   "outputs": [],
   "source": [
    "PAGES_PER_WORKER = 100"
   ]
  },
  {
   "cell_type": "code",
   "execution_count": 22,
   "metadata": {},
   "outputs": [],
   "source": [
    "total_pages = 1508"
   ]
  },
  {
   "cell_type": "code",
   "execution_count": 24,
   "metadata": {},
   "outputs": [
    {
     "data": {
      "text/plain": [
       "[(1, 101),\n",
       " (101, 201),\n",
       " (201, 301),\n",
       " (301, 401),\n",
       " (401, 501),\n",
       " (501, 601),\n",
       " (601, 701),\n",
       " (701, 801),\n",
       " (801, 901),\n",
       " (901, 1001),\n",
       " (1001, 1101),\n",
       " (1101, 1201),\n",
       " (1201, 1301),\n",
       " (1301, 1401),\n",
       " (1401, 1501),\n",
       " (1501, 1601)]"
      ]
     },
     "execution_count": 24,
     "metadata": {},
     "output_type": "execute_result"
    }
   ],
   "source": [
    "worker_pages = [(first, first+PAGES_PER_WORKER) for first in list(range(1, total_pages+1, PAGES_PER_WORKER))]\n",
    "worker_pages"
   ]
  },
  {
   "cell_type": "code",
   "execution_count": 15,
   "metadata": {},
   "outputs": [],
   "source": [
    "CARDS_URL = 'https://api.scryfall.com/cards?page={}'"
   ]
  },
  {
   "cell_type": "code",
   "execution_count": 16,
   "metadata": {},
   "outputs": [
    {
     "data": {
      "text/plain": [
       "'https://api.scryfall.com/cards?page=1'"
      ]
     },
     "execution_count": 16,
     "metadata": {},
     "output_type": "execute_result"
    }
   ],
   "source": [
    "CARDS_URL.format(1)"
   ]
  },
  {
   "cell_type": "code",
   "execution_count": 27,
   "metadata": {},
   "outputs": [],
   "source": [
    "cards_url = 'https://api.scryfall.com/cards?page=10'"
   ]
  },
  {
   "cell_type": "code",
   "execution_count": 30,
   "metadata": {},
   "outputs": [
    {
     "data": {
      "text/plain": [
       "10"
      ]
     },
     "execution_count": 30,
     "metadata": {},
     "output_type": "execute_result"
    }
   ],
   "source": [
    "int(str.split(cards_url, '=')[1])"
   ]
  },
  {
   "cell_type": "code",
   "execution_count": 33,
   "metadata": {},
   "outputs": [],
   "source": [
    "import datetime"
   ]
  },
  {
   "cell_type": "code",
   "execution_count": 35,
   "metadata": {},
   "outputs": [],
   "source": [
    "start = datetime.datetime.now()"
   ]
  },
  {
   "cell_type": "code",
   "execution_count": 37,
   "metadata": {},
   "outputs": [
    {
     "name": "stdout",
     "output_type": "stream",
     "text": [
      "0:00:23.186929\n"
     ]
    }
   ],
   "source": [
    "print(datetime.datetime.now() - then)"
   ]
  },
  {
   "cell_type": "code",
   "execution_count": 38,
   "metadata": {},
   "outputs": [
    {
     "name": "stdout",
     "output_type": "stream",
     "text": [
      "Getting page https://api.scryfall.com/cards?page=10\n",
      "Getting page https://api.scryfall.com/cards?page=20\n",
      "Getting page https://api.scryfall.com/cards?page=30\n",
      "Getting page https://api.scryfall.com/cards?page=40\n",
      "Getting page https://api.scryfall.com/cards?page=50\n",
      "Getting page https://api.scryfall.com/cards?page=60\n",
      "Getting page https://api.scryfall.com/cards?page=70\n",
      "Getting page https://api.scryfall.com/cards?page=80\n",
      "Getting page https://api.scryfall.com/cards?page=90\n",
      "Getting page https://api.scryfall.com/cards?page=100\n",
      "0:05:45.799994\n"
     ]
    }
   ],
   "source": [
    "start = datetime.datetime.now()\n",
    "all_cards_path = os.path.join(os.getcwd(), 'data', 'all_scryfall.json')\n",
    "all_cards_df = pd.DataFrame()\n",
    "cards_url = 'https://api.scryfall.com/cards?page=1'\n",
    "cards_per_page = 175\n",
    "has_more = True\n",
    "while has_more:\n",
    "#while int(str.split(cards_url, '=')[1]) < 101:\n",
    "    res = requests.get(cards_url)\n",
    "    \n",
    "    #if int(cards_url[-1]) % 10 == 0:\n",
    "    #    print('Getting page {}'.format(cards_url))\n",
    "    \n",
    "    cards_df = pd.DataFrame.from_dict(res.json()['data'])\n",
    "\n",
    "    all_cards_df = pd.concat([all_cards_df, cards_df], sort=True, ignore_index=True)\n",
    "          \n",
    "    has_more = res.json()['has_more']\n",
    "    cards_url = res.json()['next_page']\n",
    "    \n",
    "    sleep(0.1)\n",
    "\n",
    "print(datetime.datetime.now() - then)\n",
    "#all_cards_df.to_json(all_cards_path)"
   ]
  },
  {
   "cell_type": "code",
   "execution_count": 8,
   "metadata": {},
   "outputs": [
    {
     "data": {
      "text/plain": [
       "'C:\\\\Users\\\\LWEST\\\\Desktop\\\\mtgml-api\\\\notebooks\\\\..\\\\data\\\\all_scryfall.json'"
      ]
     },
     "execution_count": 8,
     "metadata": {},
     "output_type": "execute_result"
    }
   ],
   "source": [
    "all_cards_path"
   ]
  },
  {
   "cell_type": "code",
   "execution_count": 9,
   "metadata": {},
   "outputs": [],
   "source": [
    "all_cards_path = os.path.join(os.getcwd(), '..', 'data', 'all_scryfall.json')\n",
    "\n",
    "all_cards_df = pd.read_json(all_cards_path)"
   ]
  },
  {
   "cell_type": "code",
   "execution_count": 10,
   "metadata": {},
   "outputs": [
    {
     "data": {
      "text/plain": [
       "(261438, 73)"
      ]
     },
     "execution_count": 10,
     "metadata": {},
     "output_type": "execute_result"
    }
   ],
   "source": [
    "all_cards_df.shape"
   ]
  },
  {
   "cell_type": "code",
   "execution_count": 13,
   "metadata": {},
   "outputs": [
    {
     "data": {
      "text/html": [
       "<div>\n",
       "<style scoped>\n",
       "    .dataframe tbody tr th:only-of-type {\n",
       "        vertical-align: middle;\n",
       "    }\n",
       "\n",
       "    .dataframe tbody tr th {\n",
       "        vertical-align: top;\n",
       "    }\n",
       "\n",
       "    .dataframe thead th {\n",
       "        text-align: right;\n",
       "    }\n",
       "</style>\n",
       "<table border=\"1\" class=\"dataframe\">\n",
       "  <thead>\n",
       "    <tr style=\"text-align: right;\">\n",
       "      <th></th>\n",
       "      <th>all_parts</th>\n",
       "      <th>arena_id</th>\n",
       "      <th>artist</th>\n",
       "      <th>artist_ids</th>\n",
       "      <th>booster</th>\n",
       "      <th>border_color</th>\n",
       "      <th>card_back_id</th>\n",
       "      <th>card_faces</th>\n",
       "      <th>cmc</th>\n",
       "      <th>collector_number</th>\n",
       "      <th>color_identity</th>\n",
       "      <th>color_indicator</th>\n",
       "      <th>colors</th>\n",
       "      <th>digital</th>\n",
       "      <th>edhrec_rank</th>\n",
       "      <th>flavor_text</th>\n",
       "      <th>foil</th>\n",
       "      <th>frame</th>\n",
       "      <th>frame_effects</th>\n",
       "      <th>full_art</th>\n",
       "      <th>games</th>\n",
       "      <th>hand_modifier</th>\n",
       "      <th>highres_image</th>\n",
       "      <th>id</th>\n",
       "      <th>illustration_id</th>\n",
       "      <th>image_uris</th>\n",
       "      <th>lang</th>\n",
       "      <th>layout</th>\n",
       "      <th>legalities</th>\n",
       "      <th>life_modifier</th>\n",
       "      <th>loyalty</th>\n",
       "      <th>mana_cost</th>\n",
       "      <th>mtgo_foil_id</th>\n",
       "      <th>mtgo_id</th>\n",
       "      <th>multiverse_ids</th>\n",
       "      <th>name</th>\n",
       "      <th>nonfoil</th>\n",
       "      <th>object</th>\n",
       "      <th>oracle_id</th>\n",
       "      <th>oracle_text</th>\n",
       "      <th>oversized</th>\n",
       "      <th>power</th>\n",
       "      <th>preview</th>\n",
       "      <th>prices</th>\n",
       "      <th>printed_name</th>\n",
       "      <th>printed_text</th>\n",
       "      <th>printed_type_line</th>\n",
       "      <th>prints_search_uri</th>\n",
       "      <th>promo</th>\n",
       "      <th>promo_types</th>\n",
       "      <th>purchase_uris</th>\n",
       "      <th>rarity</th>\n",
       "      <th>related_uris</th>\n",
       "      <th>released_at</th>\n",
       "      <th>reprint</th>\n",
       "      <th>reserved</th>\n",
       "      <th>rulings_uri</th>\n",
       "      <th>scryfall_set_uri</th>\n",
       "      <th>scryfall_uri</th>\n",
       "      <th>set</th>\n",
       "      <th>set_name</th>\n",
       "      <th>set_search_uri</th>\n",
       "      <th>set_type</th>\n",
       "      <th>set_uri</th>\n",
       "      <th>story_spotlight</th>\n",
       "      <th>tcgplayer_id</th>\n",
       "      <th>textless</th>\n",
       "      <th>toughness</th>\n",
       "      <th>type_line</th>\n",
       "      <th>uri</th>\n",
       "      <th>variation</th>\n",
       "      <th>variation_of</th>\n",
       "      <th>watermark</th>\n",
       "    </tr>\n",
       "  </thead>\n",
       "  <tbody>\n",
       "    <tr>\n",
       "      <th>0</th>\n",
       "      <td>None</td>\n",
       "      <td>NaN</td>\n",
       "      <td>Milivoj Ćeran</td>\n",
       "      <td>[1eced451-4da5-42bc-b49d-70c41246581f]</td>\n",
       "      <td>False</td>\n",
       "      <td>black</td>\n",
       "      <td>0aeebaf5-8c7d-4636-9e82-8c27447861f7</td>\n",
       "      <td>None</td>\n",
       "      <td>6.0</td>\n",
       "      <td>5</td>\n",
       "      <td>[G]</td>\n",
       "      <td>None</td>\n",
       "      <td>[G]</td>\n",
       "      <td>False</td>\n",
       "      <td>NaN</td>\n",
       "      <td>\"Come, my wild children. Let's give the interl...</td>\n",
       "      <td>True</td>\n",
       "      <td>2015</td>\n",
       "      <td>None</td>\n",
       "      <td>False</td>\n",
       "      <td>[paper]</td>\n",
       "      <td>NaN</td>\n",
       "      <td>False</td>\n",
       "      <td>dbcdbf7a-9294-47ad-9f93-c16b78c7463a</td>\n",
       "      <td>fe97c475-ef9a-41b2-872b-2469ac9f48d7</td>\n",
       "      <td>{'small': 'https://img.scryfall.com/cards/smal...</td>\n",
       "      <td>en</td>\n",
       "      <td>normal</td>\n",
       "      <td>{'standard': 'not_legal', 'future': 'not_legal...</td>\n",
       "      <td>NaN</td>\n",
       "      <td>None</td>\n",
       "      <td>{4}{G}{G}</td>\n",
       "      <td>NaN</td>\n",
       "      <td>NaN</td>\n",
       "      <td>[]</td>\n",
       "      <td>Earthshaker Giant</td>\n",
       "      <td>False</td>\n",
       "      <td>card</td>\n",
       "      <td>cd6250ae-9079-4a62-8a70-0d94fbac21bc</td>\n",
       "      <td>Trample\\nWhen Earthshaker Giant enters the bat...</td>\n",
       "      <td>False</td>\n",
       "      <td>6</td>\n",
       "      <td>None</td>\n",
       "      <td>{'usd': None, 'usd_foil': '12.00', 'eur': None...</td>\n",
       "      <td>None</td>\n",
       "      <td>None</td>\n",
       "      <td>None</td>\n",
       "      <td>https://api.scryfall.com/cards/search?order=re...</td>\n",
       "      <td>False</td>\n",
       "      <td>None</td>\n",
       "      <td>{'tcgplayer': 'https://shop.tcgplayer.com/prod...</td>\n",
       "      <td>mythic</td>\n",
       "      <td>{'tcgplayer_decks': 'https://decks.tcgplayer.c...</td>\n",
       "      <td>2019-11-15</td>\n",
       "      <td>False</td>\n",
       "      <td>False</td>\n",
       "      <td>https://api.scryfall.com/cards/dbcdbf7a-9294-4...</td>\n",
       "      <td>https://scryfall.com/sets/gn2?utm_source=api</td>\n",
       "      <td>https://scryfall.com/card/gn2/5/earthshaker-gi...</td>\n",
       "      <td>gn2</td>\n",
       "      <td>Game Night 2019</td>\n",
       "      <td>https://api.scryfall.com/cards/search?order=se...</td>\n",
       "      <td>box</td>\n",
       "      <td>https://api.scryfall.com/sets/a72727dd-dbab-41...</td>\n",
       "      <td>False</td>\n",
       "      <td>200607.0</td>\n",
       "      <td>False</td>\n",
       "      <td>6</td>\n",
       "      <td>Creature — Giant Druid</td>\n",
       "      <td>https://api.scryfall.com/cards/dbcdbf7a-9294-4...</td>\n",
       "      <td>False</td>\n",
       "      <td>None</td>\n",
       "      <td>None</td>\n",
       "    </tr>\n",
       "    <tr>\n",
       "      <th>1</th>\n",
       "      <td>None</td>\n",
       "      <td>NaN</td>\n",
       "      <td>Lucas Graciano</td>\n",
       "      <td>[ce98f39c-7cdd-47e6-a520-6c50443bb4c2]</td>\n",
       "      <td>False</td>\n",
       "      <td>black</td>\n",
       "      <td>0aeebaf5-8c7d-4636-9e82-8c27447861f7</td>\n",
       "      <td>None</td>\n",
       "      <td>6.0</td>\n",
       "      <td>4</td>\n",
       "      <td>[R]</td>\n",
       "      <td>None</td>\n",
       "      <td>[R]</td>\n",
       "      <td>False</td>\n",
       "      <td>NaN</td>\n",
       "      <td>Half the size, double the mayhem.</td>\n",
       "      <td>True</td>\n",
       "      <td>2015</td>\n",
       "      <td>None</td>\n",
       "      <td>False</td>\n",
       "      <td>[paper]</td>\n",
       "      <td>NaN</td>\n",
       "      <td>False</td>\n",
       "      <td>acb3ce9b-ee4f-410a-8db3-e87aeb0a4444</td>\n",
       "      <td>56da4782-3fe9-4230-b426-8e7903fe281f</td>\n",
       "      <td>{'small': 'https://img.scryfall.com/cards/smal...</td>\n",
       "      <td>en</td>\n",
       "      <td>normal</td>\n",
       "      <td>{'standard': 'not_legal', 'future': 'not_legal...</td>\n",
       "      <td>NaN</td>\n",
       "      <td>None</td>\n",
       "      <td>{4}{R}{R}</td>\n",
       "      <td>NaN</td>\n",
       "      <td>NaN</td>\n",
       "      <td>[]</td>\n",
       "      <td>Fiendish Duo</td>\n",
       "      <td>False</td>\n",
       "      <td>card</td>\n",
       "      <td>ab0dfae5-b9d4-417b-8a0d-2525ae3a73b9</td>\n",
       "      <td>First strike\\nIf a source would deal damage to...</td>\n",
       "      <td>False</td>\n",
       "      <td>5</td>\n",
       "      <td>None</td>\n",
       "      <td>{'usd': None, 'usd_foil': '15.00', 'eur': None...</td>\n",
       "      <td>None</td>\n",
       "      <td>None</td>\n",
       "      <td>None</td>\n",
       "      <td>https://api.scryfall.com/cards/search?order=re...</td>\n",
       "      <td>False</td>\n",
       "      <td>None</td>\n",
       "      <td>{'tcgplayer': 'https://shop.tcgplayer.com/prod...</td>\n",
       "      <td>mythic</td>\n",
       "      <td>{'tcgplayer_decks': 'https://decks.tcgplayer.c...</td>\n",
       "      <td>2019-11-15</td>\n",
       "      <td>False</td>\n",
       "      <td>False</td>\n",
       "      <td>https://api.scryfall.com/cards/acb3ce9b-ee4f-4...</td>\n",
       "      <td>https://scryfall.com/sets/gn2?utm_source=api</td>\n",
       "      <td>https://scryfall.com/card/gn2/4/fiendish-duo?u...</td>\n",
       "      <td>gn2</td>\n",
       "      <td>Game Night 2019</td>\n",
       "      <td>https://api.scryfall.com/cards/search?order=se...</td>\n",
       "      <td>box</td>\n",
       "      <td>https://api.scryfall.com/sets/a72727dd-dbab-41...</td>\n",
       "      <td>False</td>\n",
       "      <td>200606.0</td>\n",
       "      <td>False</td>\n",
       "      <td>5</td>\n",
       "      <td>Creature — Devil</td>\n",
       "      <td>https://api.scryfall.com/cards/acb3ce9b-ee4f-4...</td>\n",
       "      <td>False</td>\n",
       "      <td>None</td>\n",
       "      <td>None</td>\n",
       "    </tr>\n",
       "  </tbody>\n",
       "</table>\n",
       "</div>"
      ],
      "text/plain": [
       "  all_parts  arena_id          artist                              artist_ids  \\\n",
       "0      None       NaN   Milivoj Ćeran  [1eced451-4da5-42bc-b49d-70c41246581f]   \n",
       "1      None       NaN  Lucas Graciano  [ce98f39c-7cdd-47e6-a520-6c50443bb4c2]   \n",
       "\n",
       "   booster border_color                          card_back_id card_faces  cmc  \\\n",
       "0    False        black  0aeebaf5-8c7d-4636-9e82-8c27447861f7       None  6.0   \n",
       "1    False        black  0aeebaf5-8c7d-4636-9e82-8c27447861f7       None  6.0   \n",
       "\n",
       "  collector_number color_identity color_indicator colors  digital  \\\n",
       "0                5            [G]            None    [G]    False   \n",
       "1                4            [R]            None    [R]    False   \n",
       "\n",
       "   edhrec_rank                                        flavor_text  foil frame  \\\n",
       "0          NaN  \"Come, my wild children. Let's give the interl...  True  2015   \n",
       "1          NaN                  Half the size, double the mayhem.  True  2015   \n",
       "\n",
       "  frame_effects  full_art    games  hand_modifier  highres_image  \\\n",
       "0          None     False  [paper]            NaN          False   \n",
       "1          None     False  [paper]            NaN          False   \n",
       "\n",
       "                                     id                       illustration_id  \\\n",
       "0  dbcdbf7a-9294-47ad-9f93-c16b78c7463a  fe97c475-ef9a-41b2-872b-2469ac9f48d7   \n",
       "1  acb3ce9b-ee4f-410a-8db3-e87aeb0a4444  56da4782-3fe9-4230-b426-8e7903fe281f   \n",
       "\n",
       "                                          image_uris lang  layout  \\\n",
       "0  {'small': 'https://img.scryfall.com/cards/smal...   en  normal   \n",
       "1  {'small': 'https://img.scryfall.com/cards/smal...   en  normal   \n",
       "\n",
       "                                          legalities  life_modifier loyalty  \\\n",
       "0  {'standard': 'not_legal', 'future': 'not_legal...            NaN    None   \n",
       "1  {'standard': 'not_legal', 'future': 'not_legal...            NaN    None   \n",
       "\n",
       "   mana_cost  mtgo_foil_id  mtgo_id multiverse_ids               name  \\\n",
       "0  {4}{G}{G}           NaN      NaN             []  Earthshaker Giant   \n",
       "1  {4}{R}{R}           NaN      NaN             []       Fiendish Duo   \n",
       "\n",
       "   nonfoil object                             oracle_id  \\\n",
       "0    False   card  cd6250ae-9079-4a62-8a70-0d94fbac21bc   \n",
       "1    False   card  ab0dfae5-b9d4-417b-8a0d-2525ae3a73b9   \n",
       "\n",
       "                                         oracle_text  oversized power preview  \\\n",
       "0  Trample\\nWhen Earthshaker Giant enters the bat...      False     6    None   \n",
       "1  First strike\\nIf a source would deal damage to...      False     5    None   \n",
       "\n",
       "                                              prices printed_name  \\\n",
       "0  {'usd': None, 'usd_foil': '12.00', 'eur': None...         None   \n",
       "1  {'usd': None, 'usd_foil': '15.00', 'eur': None...         None   \n",
       "\n",
       "  printed_text printed_type_line  \\\n",
       "0         None              None   \n",
       "1         None              None   \n",
       "\n",
       "                                   prints_search_uri  promo promo_types  \\\n",
       "0  https://api.scryfall.com/cards/search?order=re...  False        None   \n",
       "1  https://api.scryfall.com/cards/search?order=re...  False        None   \n",
       "\n",
       "                                       purchase_uris  rarity  \\\n",
       "0  {'tcgplayer': 'https://shop.tcgplayer.com/prod...  mythic   \n",
       "1  {'tcgplayer': 'https://shop.tcgplayer.com/prod...  mythic   \n",
       "\n",
       "                                        related_uris released_at  reprint  \\\n",
       "0  {'tcgplayer_decks': 'https://decks.tcgplayer.c...  2019-11-15    False   \n",
       "1  {'tcgplayer_decks': 'https://decks.tcgplayer.c...  2019-11-15    False   \n",
       "\n",
       "   reserved                                        rulings_uri  \\\n",
       "0     False  https://api.scryfall.com/cards/dbcdbf7a-9294-4...   \n",
       "1     False  https://api.scryfall.com/cards/acb3ce9b-ee4f-4...   \n",
       "\n",
       "                               scryfall_set_uri  \\\n",
       "0  https://scryfall.com/sets/gn2?utm_source=api   \n",
       "1  https://scryfall.com/sets/gn2?utm_source=api   \n",
       "\n",
       "                                        scryfall_uri  set         set_name  \\\n",
       "0  https://scryfall.com/card/gn2/5/earthshaker-gi...  gn2  Game Night 2019   \n",
       "1  https://scryfall.com/card/gn2/4/fiendish-duo?u...  gn2  Game Night 2019   \n",
       "\n",
       "                                      set_search_uri set_type  \\\n",
       "0  https://api.scryfall.com/cards/search?order=se...      box   \n",
       "1  https://api.scryfall.com/cards/search?order=se...      box   \n",
       "\n",
       "                                             set_uri  story_spotlight  \\\n",
       "0  https://api.scryfall.com/sets/a72727dd-dbab-41...            False   \n",
       "1  https://api.scryfall.com/sets/a72727dd-dbab-41...            False   \n",
       "\n",
       "   tcgplayer_id  textless toughness               type_line  \\\n",
       "0      200607.0     False         6  Creature — Giant Druid   \n",
       "1      200606.0     False         5        Creature — Devil   \n",
       "\n",
       "                                                 uri  variation variation_of  \\\n",
       "0  https://api.scryfall.com/cards/dbcdbf7a-9294-4...      False         None   \n",
       "1  https://api.scryfall.com/cards/acb3ce9b-ee4f-4...      False         None   \n",
       "\n",
       "  watermark  \n",
       "0      None  \n",
       "1      None  "
      ]
     },
     "execution_count": 13,
     "metadata": {},
     "output_type": "execute_result"
    }
   ],
   "source": [
    "all_cards_df.head(2)"
   ]
  },
  {
   "cell_type": "code",
   "execution_count": null,
   "metadata": {},
   "outputs": [],
   "source": []
  },
  {
   "cell_type": "code",
   "execution_count": 81,
   "metadata": {},
   "outputs": [],
   "source": [
    "url = all_cards_df.sample(5).image_uris.values[4]['normal']"
   ]
  },
  {
   "cell_type": "code",
   "execution_count": 82,
   "metadata": {},
   "outputs": [],
   "source": [
    "from PIL import Image\n",
    "import requests\n",
    "from io import BytesIO\n",
    "\n",
    "response = requests.get(url)\n",
    "img = Image.open(BytesIO(response.content))\n",
    "img.show()"
   ]
  },
  {
   "cell_type": "code",
   "execution_count": null,
   "metadata": {},
   "outputs": [],
   "source": []
  }
 ],
 "metadata": {
  "kernelspec": {
   "display_name": "base",
   "language": "python",
   "name": "base"
  },
  "language_info": {
   "codemirror_mode": {
    "name": "ipython",
    "version": 3
   },
   "file_extension": ".py",
   "mimetype": "text/x-python",
   "name": "python",
   "nbconvert_exporter": "python",
   "pygments_lexer": "ipython3",
   "version": "3.7.3"
  }
 },
 "nbformat": 4,
 "nbformat_minor": 4
}
